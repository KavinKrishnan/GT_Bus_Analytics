{
 "cells": [
  {
   "cell_type": "code",
   "execution_count": null,
   "metadata": {
    "collapsed": true
   },
   "outputs": [],
   "source": [
    "import pandas as pd\n",
    "\n",
    "import numpy as np\n",
    "\n",
    "import datetime\n"
   ]
  },
  {
   "cell_type": "code",
   "execution_count": null,
   "metadata": {
    "collapsed": true
   },
   "outputs": [],
   "source": [
    "df = pd.read_table('finaldataset.txt', header=0,names = ['stop_tag', 'stop_name', 'time', 'bus_id', 'job_id', 'route'])"
   ]
  },
  {
   "cell_type": "code",
   "execution_count": 18,
   "metadata": {},
   "outputs": [
    {
     "data": {
      "text/html": [
       "<div>\n",
       "<style>\n",
       "    .dataframe thead tr:only-child th {\n",
       "        text-align: right;\n",
       "    }\n",
       "\n",
       "    .dataframe thead th {\n",
       "        text-align: left;\n",
       "    }\n",
       "\n",
       "    .dataframe tbody tr th {\n",
       "        vertical-align: top;\n",
       "    }\n",
       "</style>\n",
       "<table border=\"1\" class=\"dataframe\">\n",
       "  <thead>\n",
       "    <tr style=\"text-align: right;\">\n",
       "      <th></th>\n",
       "      <th>stop_tag</th>\n",
       "      <th>stop_name</th>\n",
       "      <th>time</th>\n",
       "      <th>bus_id</th>\n",
       "      <th>job_id</th>\n",
       "      <th>route</th>\n",
       "      <th>weekday</th>\n",
       "      <th>hour</th>\n",
       "    </tr>\n",
       "  </thead>\n",
       "  <tbody>\n",
       "    <tr>\n",
       "      <th>906474</th>\n",
       "      <td>14thstat</td>\n",
       "      <td>14th St &amp; State St</td>\n",
       "      <td>2017-08-01 06:43:42</td>\n",
       "      <td>491</td>\n",
       "      <td>401</td>\n",
       "      <td>green</td>\n",
       "      <td>2</td>\n",
       "      <td>0</td>\n",
       "    </tr>\n",
       "    <tr>\n",
       "      <th>906488</th>\n",
       "      <td>gcat</td>\n",
       "      <td>GCATT</td>\n",
       "      <td>2017-08-01 06:44:07</td>\n",
       "      <td>491</td>\n",
       "      <td>401</td>\n",
       "      <td>green</td>\n",
       "      <td>2</td>\n",
       "      <td>0</td>\n",
       "    </tr>\n",
       "    <tr>\n",
       "      <th>906502</th>\n",
       "      <td>glc</td>\n",
       "      <td>GLC</td>\n",
       "      <td>2017-08-01 06:48:38</td>\n",
       "      <td>491</td>\n",
       "      <td>401</td>\n",
       "      <td>green</td>\n",
       "      <td>2</td>\n",
       "      <td>0</td>\n",
       "    </tr>\n",
       "    <tr>\n",
       "      <th>906516</th>\n",
       "      <td>bakebldg</td>\n",
       "      <td>Baker Bldg</td>\n",
       "      <td>2017-08-01 06:49:33</td>\n",
       "      <td>491</td>\n",
       "      <td>401</td>\n",
       "      <td>green</td>\n",
       "      <td>2</td>\n",
       "      <td>0</td>\n",
       "    </tr>\n",
       "    <tr>\n",
       "      <th>906530</th>\n",
       "      <td>fersstat_ob</td>\n",
       "      <td>Ferst Dr &amp; State St</td>\n",
       "      <td>2017-08-01 06:50:08</td>\n",
       "      <td>491</td>\n",
       "      <td>401</td>\n",
       "      <td>green</td>\n",
       "      <td>2</td>\n",
       "      <td>0</td>\n",
       "    </tr>\n",
       "  </tbody>\n",
       "</table>\n",
       "</div>"
      ],
      "text/plain": [
       "           stop_tag            stop_name                 time  bus_id  job_id  \\\n",
       "906474     14thstat   14th St & State St  2017-08-01 06:43:42     491     401   \n",
       "906488         gcat                GCATT  2017-08-01 06:44:07     491     401   \n",
       "906502          glc                  GLC  2017-08-01 06:48:38     491     401   \n",
       "906516     bakebldg           Baker Bldg  2017-08-01 06:49:33     491     401   \n",
       "906530  fersstat_ob  Ferst Dr & State St  2017-08-01 06:50:08     491     401   \n",
       "\n",
       "        route  weekday  hour  \n",
       "906474  green        2     0  \n",
       "906488  green        2     0  \n",
       "906502  green        2     0  \n",
       "906516  green        2     0  \n",
       "906530  green        2     0  "
      ]
     },
     "execution_count": 18,
     "metadata": {},
     "output_type": "execute_result"
    }
   ],
   "source": [
    "df = df.sort_values(by='time')\n",
    "#df = df[df.stop_tag != 'U']\n",
    "#df = df[df.stop_tag == 'fersstat_ob']\n",
    "\n",
    "#df.head(50)\n",
    "df.head(5)"
   ]
  },
  {
   "cell_type": "code",
   "execution_count": null,
   "metadata": {
    "collapsed": true
   },
   "outputs": [],
   "source": [
    "# new_col = list(map(lambda x: datetime.datetime.strptime(x, \"%Y-%m-%d %H:%M:%S\"), df.time))\n",
    "# df.assign(datetime = new_col)\n",
    "\n",
    "\n"
   ]
  },
  {
   "cell_type": "code",
   "execution_count": null,
   "metadata": {
    "collapsed": true
   },
   "outputs": [],
   "source": [
    "h1, m1 = (15, 30)\n",
    "h2, m2 = (18, 30)\n",
    "weekday = 2\n",
    "\n",
    "def is_the_choosen_one(x):\n",
    "    dt = datetime.datetime.strptime(x, \"%Y-%m-%d %H:%M:%S\")\n",
    "    tm = dt.time()\n",
    "    wd = dt.isoweekday()\n",
    "    if weekday != wd:\n",
    "        return False\n",
    "    if tm > datetime.time(h2, m2):\n",
    "        return False\n",
    "    if tm < datetime.time(h1, m1):\n",
    "        return False\n",
    "    return True\n",
    "        \n",
    "#is_the_choosen_one('2018-04-24 16:43:42', 15, 30, 18, 30, 2)\n"
   ]
  },
  {
   "cell_type": "code",
   "execution_count": null,
   "metadata": {
    "collapsed": true
   },
   "outputs": [],
   "source": [
    "filter_bool = list(map(is_the_choosen_one, df.time))\n",
    "\n",
    "df = df[filter_bool]"
   ]
  },
  {
   "cell_type": "code",
   "execution_count": null,
   "metadata": {},
   "outputs": [],
   "source": [
    "print(len(df))\n"
   ]
  },
  {
   "cell_type": "code",
   "execution_count": null,
   "metadata": {},
   "outputs": [],
   "source": [
    "df.groupby(['route', 'bus_id']).count().head(10)"
   ]
  },
  {
   "cell_type": "code",
   "execution_count": null,
   "metadata": {
    "collapsed": true
   },
   "outputs": [],
   "source": [
    "from collections import defaultdict"
   ]
  },
  {
   "cell_type": "code",
   "execution_count": null,
   "metadata": {
    "collapsed": true
   },
   "outputs": [],
   "source": [
    "def list_default_dict():\n",
    "    return defaultdict(list)\n",
    "\n",
    "times_id_stops = defaultdict(list_default_dict)\n",
    "\n",
    "for name, group in df.groupby(['route', 'bus_id']):\n",
    "    #print(name)\n",
    "    route = name[0]\n",
    "    bus_id = name[1]\n",
    "    #if name == ('blue', 431):\n",
    "        #print(group.head(20))\n",
    "    for index, row in group.iterrows():\n",
    "        stop_tag = row['stop_tag']\n",
    "        atime = row['time']\n",
    "        times_id_stops[route][bus_id].append((stop_tag, atime))\n",
    "            \n",
    "#times_id_stops['tech'][431]"
   ]
  },
  {
   "cell_type": "code",
   "execution_count": null,
   "metadata": {},
   "outputs": [],
   "source": [
    "times_id_stops['tech'][431]"
   ]
  },
  {
   "cell_type": "code",
   "execution_count": null,
   "metadata": {},
   "outputs": [],
   "source": [
    "def new_list_default_dict():\n",
    "    return defaultdict(list_default_dict)\n",
    "\n",
    "times_between_stops = defaultdict(new_list_default_dict)\n",
    "\n",
    "def add_times_to_megadict(megadict, times_id_stops, route, bus_id):\n",
    "    bus_times = times_id_stops[route][bus_id]\n",
    "    L = len(bus_times)\n",
    "    for k in range(L):\n",
    "        w = 1\n",
    "        stop_tag, actual_time = bus_times[k]\n",
    "        seguir = True\n",
    "        while seguir and k+w <= L-1:\n",
    "            next_stop_tag, next_time = bus_times[k+w]\n",
    "            if stop_tag == next_stop_tag:\n",
    "                seguir = False\n",
    "            t1 = datetime.datetime.strptime(actual_time, \"%Y-%m-%d %H:%M:%S\")\n",
    "            t2 = datetime.datetime.strptime(next_time, \"%Y-%m-%d %H:%M:%S\")\n",
    "            travel_time = (t2-t1).total_seconds()/60\n",
    "            #print(stop_tag, next_stop_tag, t2, t1, travel_time)\n",
    "\n",
    "            if travel_time < 60:\n",
    "                megadict[route][stop_tag][next_stop_tag].append(travel_time)\n",
    "            w += 1\n",
    "            if w >= L or travel_time > 60:\n",
    "                seguir = False\n",
    "            if not seguir:\n",
    "                w = 1\n",
    "\n",
    "                \n",
    "add_times_to_megadict(times_between_stops, times_id_stops, 'blue', 439)                \n",
    "times_between_stops['blue']['fersatla']['8thhemp']\n",
    "    \n",
    "    \n",
    "\n",
    "\n"
   ]
  },
  {
   "cell_type": "code",
   "execution_count": null,
   "metadata": {},
   "outputs": [],
   "source": [
    "import time\n",
    "st = time.time()\n",
    "times_between_stops = defaultdict(new_list_default_dict)\n",
    "for name, group in df.groupby(['route', 'bus_id']):\n",
    "    route, bus_id = name\n",
    "    add_times_to_megadict(times_between_stops, times_id_stops, route, bus_id)                \n",
    "ft = time.time() - time.time()\n",
    "print(ft, 'seconds')\n",
    "\n"
   ]
  },
  {
   "cell_type": "code",
   "execution_count": null,
   "metadata": {
    "collapsed": true
   },
   "outputs": [],
   "source": [
    "# import pickle\n",
    "\n",
    "# with open('times_between_stops.pickle', 'wb') as handle:\n",
    "#     pickle.dump(times_between_stops, handle)"
   ]
  },
  {
   "cell_type": "code",
   "execution_count": null,
   "metadata": {
    "collapsed": true
   },
   "outputs": [],
   "source": [
    "#times_between_stops['blue']['fersatla']['8thhemp']\n",
    "\n",
    "new_mega_dict = {}\n",
    "for key, value in times_between_stops.items():\n",
    "    dict1 = {}\n",
    "    for key2, value2 in value.items():\n",
    "        dict2 = {}\n",
    "        for key3, value3 in value2.items():\n",
    "            dict2[key3] = value3\n",
    "        dict1[key2] = dict2\n",
    "    new_mega_dict[key] = dict1"
   ]
  },
  {
   "cell_type": "code",
   "execution_count": null,
   "metadata": {
    "collapsed": true
   },
   "outputs": [],
   "source": [
    "# import pickle\n",
    "\n",
    "# with open('new_mega_dict_t1518.pickle', 'wb') as handle:\n",
    "#     pickle.dump(new_mega_dict, handle)"
   ]
  },
  {
   "cell_type": "code",
   "execution_count": null,
   "metadata": {
    "collapsed": true
   },
   "outputs": [],
   "source": [
    "\n",
    "# stop1 = 'studcentr'\n",
    "# stop2 = 'fersatla'\n",
    "# plt.figure()\n",
    "\n",
    "# print(len(times_between_stops['blue'][stop1][stop2]), 'samples')\n",
    "\n",
    "# print('95% p', np.percentile(times_between_stops['blue'][stop1][stop2], 95))\n",
    "\n",
    "\n",
    "# plt.title(\"Travel time distribution between {} and {}\".format(stop1, stop2))\n",
    "# plt.hist(times_between_stops['blue'][stop1][stop2], bins=10, density=True,  edgecolor='black', linewidth=1)\n",
    "# plt.show()"
   ]
  },
  {
   "cell_type": "code",
   "execution_count": null,
   "metadata": {},
   "outputs": [],
   "source": [
    "from matplotlib import pyplot as plt\n",
    "import datetime\n",
    "%matplotlib notebook\n",
    "\n",
    "\n",
    "def list_default_dict():\n",
    "    return defaultdict(list)\n",
    "\n",
    "\n",
    "arrival_time = defaultdict(list_default_dict)\n",
    "\n",
    "for name, group in df.groupby(['route', 'stop_tag']):\n",
    "    route, stop_tag = name\n",
    "    #print(route, stop_tag)\n",
    "    arrival_time[route][stop_tag] = list(group['time'])\n",
    "    \n",
    "#print(arrival_time['blue']['studcentr'])\n",
    "print(len(arrival_time['blue']['studcentr']))\n",
    "\n",
    "\n",
    "\n",
    "time_distribution = []\n",
    "for k in range(len(arrival_time['blue']['studcentr'])-1):\n",
    "    t1 = arrival_time['blue']['studcentr'][k]\n",
    "    t1 = datetime.datetime.strptime(t1, \"%Y-%m-%d %H:%M:%S\")\n",
    "    t2 = arrival_time['blue']['studcentr'][k+1]\n",
    "    t2 = datetime.datetime.strptime(t2, \"%Y-%m-%d %H:%M:%S\")\n",
    "    \n",
    "    head_way = (t2-t1).total_seconds()/60\n",
    "    if head_way < 60:\n",
    "        time_distribution.append(head_way)\n",
    "        \n",
    "plt.hist(time_distribution, bins=12, density=True,  edgecolor='black', linewidth=1)\n",
    "plt.show()\n",
    "\n",
    "    \n",
    "    \n"
   ]
  },
  {
   "cell_type": "code",
   "execution_count": null,
   "metadata": {},
   "outputs": [],
   "source": [
    "def list_default_dict():\n",
    "    return defaultdict(list)\n",
    "\n",
    "\n",
    "arrival_time = defaultdict(list_default_dict)\n",
    "\n",
    "for name, group in df.groupby(['route', 'stop_tag']):\n",
    "    route, stop_tag = name\n",
    "    #print(route, stop_tag)\n",
    "    arrival_time[route][stop_tag] = list(group['time'])\n",
    "    \n",
    "#print(arrival_time['blue']['studcentr'])\n",
    "print(len(arrival_time['blue']['studcentr']))\n",
    "\n",
    "\n",
    "\n",
    "\n",
    "        "
   ]
  },
  {
   "cell_type": "code",
   "execution_count": null,
   "metadata": {},
   "outputs": [],
   "source": [
    "from matplotlib import cm\n",
    "\n",
    "\n",
    "X = []\n",
    "Y = []\n",
    "Z = []\n",
    "col = []\n",
    "\n",
    "route = 'tech'\n",
    "stop = 'techsqua'\n",
    "zero =  datetime.time(0, 0)\n",
    "for k in range(len(arrival_time[route][stop])-1):\n",
    "    t1 = arrival_time[route][stop][k]\n",
    "    t1 = datetime.datetime.strptime(t1, \"%Y-%m-%d %H:%M:%S\")\n",
    "    t2 = arrival_time[route][stop][k+1]\n",
    "    t2 = datetime.datetime.strptime(t2, \"%Y-%m-%d %H:%M:%S\")\n",
    "    \n",
    "    head_way = (t2-t1).total_seconds()/60\n",
    "    if head_way < 60:\n",
    "        Z.append(t2.time())\n",
    "        X.append(head_way)\n",
    "        Y.append(t2.date())\n",
    "        abstime = datetime.datetime.combine(datetime.date.min, t2.time()) - datetime.datetime.combine(datetime.date.min, zero)\n",
    "        col.append(abstime.total_seconds())\n",
    "\n",
    "\n",
    "\n",
    "plt.figure()\n",
    "plt.scatter(Y, X, marker='s', alpha=1, c=col, s=1, cmap=cm.jet)\n",
    "plt.xticks(rotation=90)\n",
    "plt.show()\n",
    "\n",
    "plt.figure()\n",
    "\n",
    "plt.scatter(Y, Z, marker='s', alpha=1, c=X, s=1, cmap=cm.jet)\n",
    "plt.xticks(rotation=90)\n",
    "plt.show()\n",
    "\n",
    "\n"
   ]
  },
  {
   "cell_type": "code",
   "execution_count": null,
   "metadata": {},
   "outputs": [],
   "source": [
    "df.groupby(['route', 'stop_tag']).count()"
   ]
  },
  {
   "cell_type": "code",
   "execution_count": 19,
   "metadata": {},
   "outputs": [
    {
     "name": "stdout",
     "output_type": "stream",
     "text": [
      "('blue', '3rdtech')\n",
      "('blue', '4thtech')\n",
      "('blue', '5thtech')\n",
      "('blue', '8thhemp')\n",
      "('blue', '8thwvil')\n",
      "('blue', 'cherfers')\n",
      "('blue', 'fersatla')\n",
      "('blue', 'fersfowl')\n",
      "('blue', 'fershemp_ob')\n",
      "('blue', 'fershub')\n",
      "('blue', 'fersklau')\n",
      "('blue', 'fersstat')\n",
      "('blue', 'fitthall_a')\n",
      "('blue', 'naveapts_a')\n",
      "('blue', 'reccent')\n",
      "('blue', 'studcentr')\n",
      "('blue', 'technorth')\n",
      "('emory', 'clifgate')\n",
      "('emory', 'clifgate_e')\n",
      "('emory', 'clifwesl_e')\n",
      "('emory', 'clifwesl_g')\n",
      "('emory', 'fersatla_a')\n",
      "('emory', 'fersatla_d')\n",
      "('emory', 'hsrb_a')\n",
      "('emory', 'hsrb_d')\n",
      "('emory', 'mart_e')\n",
      "('emory', 'marta_g')\n",
      "('emory', 'piedbota_e')\n",
      "('emory', 'piedbota_g')\n",
      "('emory', 'woodmemo')\n",
      "('green', '10thhemp')\n",
      "('green', '14thbusy_a')\n",
      "('green', '14thstat')\n",
      "('green', 'bakebldg')\n",
      "('green', 'creccent')\n",
      "('green', 'fershemp')\n",
      "('green', 'fershemp_ob')\n",
      "('green', 'fersstat_ob')\n",
      "('green', 'gcat')\n",
      "('green', 'glc')\n",
      "('green', 'hempcurr')\n",
      "('green', 'ndec')\n",
      "('green', 'reccent_ob')\n",
      "('green', 'studcent')\n",
      "('green', 'studcent_ib')\n",
      "('green', 'tranhub')\n",
      "('night', '5thtech')\n",
      "('night', '5thtech_ib')\n",
      "('night', '8thhemp')\n",
      "('night', '8thwvil')\n",
      "('night', 'cloucomm')\n",
      "('night', 'creccent_ib')\n",
      "('night', 'creccent_ob')\n",
      "('night', 'fitthall_a')\n",
      "('night', 'tech4th_ib')\n",
      "('night', 'tech4th_ob')\n",
      "('night', 'technorth_ib')\n",
      "('night', 'technorth_ob')\n",
      "('night', 'tranhub_b')\n",
      "('night', 'tranhub_f')\n",
      "('red', '8thhemp')\n",
      "('red', '8thwvil')\n",
      "('red', 'centrstud')\n",
      "('red', 'creccent')\n",
      "('red', 'fersatla')\n",
      "('red', 'fersfowl')\n",
      "('red', 'fershemp')\n",
      "('red', 'ferstcher')\n",
      "('red', 'fitthall')\n",
      "('red', 'hubfers')\n",
      "('red', 'klaubldg')\n",
      "('red', 'naveapts_a')\n",
      "('red', 'tech4th')\n",
      "('red', 'tech5th')\n",
      "('red', 'techbob')\n",
      "('red', 'technorth')\n",
      "('tech', 'cloucomm')\n",
      "('tech', 'duprmrt')\n",
      "('tech', 'techsqua')\n",
      "('tech', 'techsqua_ob')\n",
      "('trolley', 'centrstud')\n",
      "('trolley', 'duprmrt')\n",
      "('trolley', 'fersatl_ib')\n",
      "('trolley', 'fersatla')\n",
      "('trolley', 'ferschmrt')\n",
      "('trolley', 'ferschrec')\n",
      "('trolley', 'fersfomrt')\n",
      "('trolley', 'fersforec')\n",
      "('trolley', 'fershemrt')\n",
      "('trolley', 'fersherec')\n",
      "('trolley', 'ferstdr')\n",
      "('trolley', 'marta_a')\n",
      "('trolley', 'publix')\n",
      "('trolley', 'recctr')\n",
      "('trolley', 'studcentr')\n",
      "('trolley', 'tech5mrt')\n",
      "('trolley', 'tech5rec')\n",
      "('trolley', 'techsqua')\n",
      "('trolley', 'techsqua_ib')\n",
      "('trolley', 'tranhub_a')\n",
      "('trolley', 'wpe7mrt')\n"
     ]
    }
   ],
   "source": [
    "for name, group in df.groupby(['route', 'stop_tag']):\n",
    "    print(name)"
   ]
  },
  {
   "cell_type": "code",
   "execution_count": null,
   "metadata": {},
   "outputs": [],
   "source": [
    "import numpy as np\n",
    "import matplotlib.pyplot as plt\n",
    "\n",
    "route = 'red'\n",
    "stop1 = 'creccent'\n",
    "stop2 = 'naveapts_a'\n",
    "\n",
    "\n",
    "n_bins = 20\n",
    "\n",
    "fig, axes = plt.subplots(nrows=1, ncols=1)\n",
    "ax0 = axes\n",
    "\n",
    "L80 = int((len(times_between_stops[route][stop1][stop2])*0.8)//1)\n",
    "\n",
    "\n",
    "list80 = times_between_stops[route][stop1][stop2][:L80]\n",
    "list20 = times_between_stops[route][stop1][stop2][L80:]\n",
    "\n",
    "x_multi = [list80, list20]\n",
    "ax0.hist(x_multi, n_bins, histtype='bar', density=True, label=['First 80%', \"Last 20%\"])\n",
    "ax0.legend(prop={'size': 10})\n",
    "ax0.set_title('80/20 test \"{}\"-\"{}\" | {} | {}:{}-{}:{}'.format(stop1, stop2, route, h1, m1, h2, m2))\n",
    "plt.xlabel(\"travel time (minutes)\")\n",
    "plt.ylabel(\"Probability\")\n",
    "\n",
    "print(L80/0.8)\n",
    "plt.show()"
   ]
  },
  {
   "cell_type": "code",
   "execution_count": null,
   "metadata": {},
   "outputs": [],
   "source": [
    "print(np.average(list80), np.average(list20))\n",
    "print(np.std(list80), np.std(list20))"
   ]
  },
  {
   "cell_type": "code",
   "execution_count": null,
   "metadata": {
    "collapsed": true
   },
   "outputs": [],
   "source": [
    "\n",
    "\n",
    "\n",
    "\n"
   ]
  },
  {
   "cell_type": "code",
   "execution_count": null,
   "metadata": {},
   "outputs": [],
   "source": [
    "cdf20 = [k/len(list20) for k in range (1, len(list20)+1)]\n",
    "cdf80 = [k/L80 for k in range(1, L80+1)]\n",
    "\n",
    "list80.sort()\n",
    "list20.sort()\n",
    "\n",
    "\n",
    "\n",
    "plt.figure()\n",
    "\n",
    "\n",
    "plt.plot(list80, cdf80, label='First80%')\n",
    "plt.plot(list20, cdf20, label = 'Last 20%')\n",
    "\n",
    "\n",
    "\n",
    "axes = plt.gca()\n",
    "\n",
    "axes.legend(prop={'size': 10})\n",
    "\n",
    "\n",
    "plt.title('CDF 80/20 \"{}\"-\"{}\" | {} | {}:{}-{}:{}'.format(stop1, stop2, route, h1, m1, h2, m2))\n",
    "plt.xlabel(\"travel time (minutes)\")\n",
    "plt.ylabel(\"Probability\")\n",
    "\n",
    "\n",
    "\n",
    "axes.set_ylim([0,1])\n",
    "\n",
    "plt.show()\n",
    "\n",
    "\n",
    "\n"
   ]
  },
  {
   "cell_type": "code",
   "execution_count": null,
   "metadata": {
    "collapsed": true
   },
   "outputs": [],
   "source": [
    "df = pd.read_table('finaldataset.txt', header=0,names = ['stop_tag', 'stop_name', 'time', 'bus_id', 'job_id', 'route'])\n",
    "df = df.sort_values(by='time')\n",
    "df = df[df.stop_tag != 'U']\n",
    "\n",
    "times_at_stops = defaultdict(list_default_dict)\n",
    "for name, group in df.groupby(['route', 'stop_tag']):\n",
    "    route = name[0]\n",
    "    stop_tag = name[1]\n",
    "    for index, row in group.iterrows():\n",
    "        atime = datetime.datetime.strptime(row['time'], \"%Y-%m-%d %H:%M:%S\")\n",
    "        times_at_stops[route][stop_tag].append(atime)\n",
    "\n",
    "    \n",
    "\n",
    "\n"
   ]
  },
  {
   "cell_type": "code",
   "execution_count": null,
   "metadata": {},
   "outputs": [],
   "source": [
    "def get_headeays(times):\n",
    "    headways = []\n",
    "    for k in range(1, len(times)):\n",
    "        t1 = times[k-1]\n",
    "        t2 = times[k]\n",
    "        hw = (t2-t1).total_seconds()/60\n",
    "        if hw < 90:\n",
    "            headways.append(hw)\n",
    "    return headways\n",
    "\n",
    "\n",
    "get_headeays(times_id_stops['blue']['5thtech'])"
   ]
  },
  {
   "cell_type": "code",
   "execution_count": null,
   "metadata": {},
   "outputs": [],
   "source": [
    "h1, m1 = (15, 30)\n",
    "h2, m2 = (18, 30)\n",
    "weekday = 2\n",
    "\n",
    "def filter_date(x):\n",
    "    tm = x.time()\n",
    "    wd = x.isoweekday()\n",
    "    if weekday != wd:\n",
    "        return False\n",
    "    if tm > datetime.time(h2, m2):\n",
    "        return False\n",
    "    if tm < datetime.time(h1, m1):\n",
    "        return False\n",
    "    return True\n",
    "\n",
    "def exp_wait_time(hwlist):\n",
    "    ewt = 0\n",
    "    for hw in hwlist:\n",
    "        ewt += hw * hw/2\n",
    "    return ewt/sum(hwlist)\n",
    "\n",
    "times_id_stops['blue']['5thtech']"
   ]
  },
  {
   "cell_type": "code",
   "execution_count": null,
   "metadata": {},
   "outputs": [],
   "source": [
    "waiting_stats = {}\n",
    "\n",
    "\n",
    "for name, group in df.groupby(['route', 'stop_tag']):\n",
    "    route = name[0]\n",
    "    stop_tag = name[1]\n",
    "    \n",
    "    if route not in waiting_stats.keys():\n",
    "        waiting_stats[route] = {}\n",
    "        \n",
    "    waiting_stats[route][stop_tag] = {}\n",
    "    \n",
    "    times_rs = times_id_stops[route][stop_tag]\n",
    "    for k in range(1,8):\n",
    "        fdist = [x for x in times_rs if x.isoweekday() == k]\n",
    "        #hwww = get_headeays(fdist)\n",
    "        \n",
    "        waiting_stats[route][stop_tag][k] = {}\n",
    "\n",
    "        for h in range(6):\n",
    "            h1 = [7,9,11,13,16,18,21][h] - 1\n",
    "            m1 = 30\n",
    "            h2 = [7,9,11,13,16,18,21][h+1]\n",
    "            m2 = 30\n",
    "            newflist = [x for x in fdist if (x.time() > datetime.time(h1, m1) and x.time() < datetime.time(h2, m2))]\n",
    "            hw = get_headeays(newflist)\n",
    "            if hw != []:\n",
    "                timewindow = '{}:{}-{}:{}'.format([7,9,11,13,16,18,21][h],'00',[7,9,11,13,16,18,21][h+1],'00')\n",
    "                real = exp_wait_time(hw)\n",
    "                ideal = np.mean(hw)/2\n",
    "                waiting_stats[route][stop_tag][k][timewindow] = {\n",
    "                    'Ewaitt': round(real,2),\n",
    "                    'IdealWT': round(ideal,2),\n",
    "                    'KPI': round(real/ideal -1,5)\n",
    "                }\n",
    "                print(timewindow,route, stop_tag, k, real/ideal -1, exp_wait_time(hw))\n",
    "            else:\n",
    "                waiting_stats[route][stop_tag][k][timewindow] = {\n",
    "                    'Ewaitt': 0,\n",
    "                    'IdealWT': 0,\n",
    "                    'KPI': 0\n",
    "                }\n",
    "                \n",
    "#print(waiting_stats)\n",
    "\n"
   ]
  },
  {
   "cell_type": "code",
   "execution_count": null,
   "metadata": {
    "collapsed": true
   },
   "outputs": [],
   "source": [
    "import pickle\n",
    "\n",
    "with open('wtandkpis.pickle', 'wb') as handle:\n",
    "    pickle.dump(waiting_stats, handle)"
   ]
  },
  {
   "cell_type": "markdown",
   "metadata": {
    "collapsed": true
   },
   "source": [
    "## Travel times"
   ]
  },
  {
   "cell_type": "code",
   "execution_count": null,
   "metadata": {
    "collapsed": true
   },
   "outputs": [],
   "source": [
    "import time\n",
    "import pickle\n",
    "\n",
    "\n",
    "\n",
    "times_between_stops = defaultdict(new_list_default_dict)\n",
    "for name, group in df.groupby(['route', 'bus_id']):\n",
    "    route, bus_id = name\n",
    "    add_times_to_megadict(times_between_stops, times_id_stops, route, bus_id)                \n",
    "\n",
    "new_mega_dict = {}\n",
    "for key, value in times_between_stops.items():\n",
    "    dict1 = {}\n",
    "    for key2, value2 in value.items():\n",
    "        dict2 = {}\n",
    "        for key3, value3 in value2.items():\n",
    "            dict2[key3] = value3\n",
    "        dict1[key2] = dict2\n",
    "    new_mega_dict[key] = dict1\n",
    "    \n",
    "\n",
    "with open('new_mega_dict_t1518.pickle', 'wb') as handle:\n",
    "    pickle.dump(new_mega_dict, handle)\n",
    "\n",
    "    \n",
    "    \n"
   ]
  },
  {
   "cell_type": "code",
   "execution_count": 10,
   "metadata": {
    "collapsed": true
   },
   "outputs": [],
   "source": [
    "from collections import defaultdict\n",
    "import pickle\n",
    "import pandas as pd\n",
    "import datetime"
   ]
  },
  {
   "cell_type": "code",
   "execution_count": 22,
   "metadata": {
    "collapsed": true
   },
   "outputs": [],
   "source": [
    "def time_cat(time):\n",
    "    if time < datetime.time(7, 30):\n",
    "        return 0\n",
    "    elif time < datetime.time(9, 0):\n",
    "        return 1\n",
    "    elif time < datetime.time(11, 0):\n",
    "        return 2\n",
    "    elif time < datetime.time(13, 0):\n",
    "        return 3\n",
    "    elif time < datetime.time(16, 0):\n",
    "        return 4\n",
    "    elif time < datetime.time(18, 0):\n",
    "        return 5\n",
    "    elif time < datetime.time(21, 0):\n",
    "        return 6\n",
    "    else:\n",
    "        return 0\n",
    "\n",
    "def list_default_dict():\n",
    "    return defaultdict(list)\n",
    "\n",
    "def new_list_default_dict():\n",
    "    return defaultdict(list_default_dict)\n",
    "\n",
    "def add_times_to_megadict(megadict, times_id_stops, route, bus_id):\n",
    "    bus_times = times_id_stops[route][bus_id]\n",
    "    L = len(bus_times)\n",
    "    for k in range(L):\n",
    "        w = 1\n",
    "        stop_tag, actual_time = bus_times[k]\n",
    "        seguir = True\n",
    "        while seguir and k+w <= L-1:\n",
    "            next_stop_tag, next_time = bus_times[k+w]\n",
    "            if stop_tag == next_stop_tag:\n",
    "                seguir = False\n",
    "            t1 = datetime.datetime.strptime(actual_time, \"%Y-%m-%d %H:%M:%S\")\n",
    "            t2 = datetime.datetime.strptime(next_time, \"%Y-%m-%d %H:%M:%S\")\n",
    "            travel_time = (t2-t1).total_seconds()/60\n",
    "            #print(stop_tag, next_stop_tag, t2, t1, travel_time)\n",
    "\n",
    "            if travel_time < 80:\n",
    "                megadict[route][stop_tag][next_stop_tag].append(travel_time)\n",
    "            w += 1\n",
    "            if w >= L or travel_time > 60:\n",
    "                seguir = False\n",
    "            if not seguir:\n",
    "                w = 1\n",
    "    "
   ]
  },
  {
   "cell_type": "code",
   "execution_count": 25,
   "metadata": {},
   "outputs": [
    {
     "data": {
      "text/html": [
       "<div>\n",
       "<style>\n",
       "    .dataframe thead tr:only-child th {\n",
       "        text-align: right;\n",
       "    }\n",
       "\n",
       "    .dataframe thead th {\n",
       "        text-align: left;\n",
       "    }\n",
       "\n",
       "    .dataframe tbody tr th {\n",
       "        vertical-align: top;\n",
       "    }\n",
       "</style>\n",
       "<table border=\"1\" class=\"dataframe\">\n",
       "  <thead>\n",
       "    <tr style=\"text-align: right;\">\n",
       "      <th></th>\n",
       "      <th>stop_tag</th>\n",
       "      <th>stop_name</th>\n",
       "      <th>time</th>\n",
       "      <th>bus_id</th>\n",
       "      <th>job_id</th>\n",
       "      <th>route</th>\n",
       "      <th>weekday</th>\n",
       "      <th>hour</th>\n",
       "    </tr>\n",
       "  </thead>\n",
       "  <tbody>\n",
       "    <tr>\n",
       "      <th>906474</th>\n",
       "      <td>14thstat</td>\n",
       "      <td>14th St &amp; State St</td>\n",
       "      <td>2017-08-01 06:43:42</td>\n",
       "      <td>491</td>\n",
       "      <td>401</td>\n",
       "      <td>green</td>\n",
       "      <td>2</td>\n",
       "      <td>0</td>\n",
       "    </tr>\n",
       "    <tr>\n",
       "      <th>906488</th>\n",
       "      <td>gcat</td>\n",
       "      <td>GCATT</td>\n",
       "      <td>2017-08-01 06:44:07</td>\n",
       "      <td>491</td>\n",
       "      <td>401</td>\n",
       "      <td>green</td>\n",
       "      <td>2</td>\n",
       "      <td>0</td>\n",
       "    </tr>\n",
       "    <tr>\n",
       "      <th>906502</th>\n",
       "      <td>glc</td>\n",
       "      <td>GLC</td>\n",
       "      <td>2017-08-01 06:48:38</td>\n",
       "      <td>491</td>\n",
       "      <td>401</td>\n",
       "      <td>green</td>\n",
       "      <td>2</td>\n",
       "      <td>0</td>\n",
       "    </tr>\n",
       "    <tr>\n",
       "      <th>906516</th>\n",
       "      <td>bakebldg</td>\n",
       "      <td>Baker Bldg</td>\n",
       "      <td>2017-08-01 06:49:33</td>\n",
       "      <td>491</td>\n",
       "      <td>401</td>\n",
       "      <td>green</td>\n",
       "      <td>2</td>\n",
       "      <td>0</td>\n",
       "    </tr>\n",
       "    <tr>\n",
       "      <th>906530</th>\n",
       "      <td>fersstat_ob</td>\n",
       "      <td>Ferst Dr &amp; State St</td>\n",
       "      <td>2017-08-01 06:50:08</td>\n",
       "      <td>491</td>\n",
       "      <td>401</td>\n",
       "      <td>green</td>\n",
       "      <td>2</td>\n",
       "      <td>0</td>\n",
       "    </tr>\n",
       "  </tbody>\n",
       "</table>\n",
       "</div>"
      ],
      "text/plain": [
       "           stop_tag            stop_name                 time  bus_id  job_id  \\\n",
       "906474     14thstat   14th St & State St  2017-08-01 06:43:42     491     401   \n",
       "906488         gcat                GCATT  2017-08-01 06:44:07     491     401   \n",
       "906502          glc                  GLC  2017-08-01 06:48:38     491     401   \n",
       "906516     bakebldg           Baker Bldg  2017-08-01 06:49:33     491     401   \n",
       "906530  fersstat_ob  Ferst Dr & State St  2017-08-01 06:50:08     491     401   \n",
       "\n",
       "        route  weekday  hour  \n",
       "906474  green        2     0  \n",
       "906488  green        2     0  \n",
       "906502  green        2     0  \n",
       "906516  green        2     0  \n",
       "906530  green        2     0  "
      ]
     },
     "execution_count": 25,
     "metadata": {},
     "output_type": "execute_result"
    }
   ],
   "source": [
    "df = pd.read_table('finaldataset.txt', header=0,names = ['stop_tag', 'stop_name', 'time', 'bus_id', 'job_id', 'route'])\n",
    "df = df.sort_values(by='time')\n",
    "df = df[df.stop_tag != 'U']\n",
    "\n",
    "new_col = list(map(lambda x: datetime.datetime.strptime(x, \"%Y-%m-%d %H:%M:%S\").isoweekday(), df.time))\n",
    "df = df.assign(weekday = new_col)\n",
    "new_col = list(map(lambda x: time_cat(datetime.datetime.strptime(x, \"%Y-%m-%d %H:%M:%S\").time()), df.time))\n",
    "df= df.assign(hour = new_col)\n",
    "\n",
    "df.head(5)\n",
    "\n"
   ]
  },
  {
   "cell_type": "code",
   "execution_count": 27,
   "metadata": {},
   "outputs": [
    {
     "name": "stdout",
     "output_type": "stream",
     "text": [
      "1 0\n",
      "[3.25, 3.6, 2.6666666666666665, 2.35, 2.6666666666666665, 3.7666666666666666, 2.8333333333333335, 2.683333333333333, 4.166666666666667, 4.766666666666667, 3.433333333333333, 3.933333333333333, 3.6, 3.433333333333333, 4.933333333333334, 3.85, 3.8833333333333333, 3.8333333333333335, 3.55, 4.216666666666667, 4.0, 4.3, 4.85, 2.5166666666666666, 3.6666666666666665, 3.5833333333333335, 3.183333333333333, 3.183333333333333, 4.266666666666667, 4.166666666666667, 4.516666666666667, 4.85, 4.5, 3.5, 4.016666666666667, 3.3333333333333335, 3.6666666666666665, 3.183333333333333, 4.35, 4.1, 4.1, 16.116666666666667, 3.75, 3.5166666666666666, 3.85, 5.016666666666667, 4.25, 3.7666666666666666, 3.433333333333333, 3.1, 4.983333333333333, 2.966666666666667, 5.25, 2.8, 5.266666666666667, 2.933333333333333, 4.45, 3.816666666666667, 3.183333333333333, 8.683333333333334, 3.6, 3.5833333333333335, 4.216666666666667, 3.15, 3.55, 2.7666666666666666, 3.8833333333333333, 3.0, 3.066666666666667, 4.116666666666666, 2.95, 10.45, 3.316666666666667, 3.35, 3.5, 4.033333333333333, 3.6, 4.6, 4.433333333333334, 3.5, 3.933333333333333, 4.75, 3.933333333333333, 3.466666666666667, 5.183333333333334, 4.1, 4.75, 3.9166666666666665, 3.6, 5.683333333333334, 5.516666666666667]\n",
      "1 1\n",
      "[3.6666666666666665, 3.25, 31.466666666666665, 41.7, 3.1666666666666665, 3.183333333333333, 2.683333333333333, 4.433333333333334, 4.433333333333334, 3.75, 3.216666666666667, 5.433333333333334, 4.85, 4.55, 4.433333333333334, 4.25, 3.7666666666666666, 4.416666666666667, 4.166666666666667, 4.183333333333334, 4.75, 4.25, 5.183333333333334, 5.2, 5.35, 3.9166666666666665, 4.433333333333334, 4.85, 6.083333333333333, 6.683333333333334, 5.25, 4.433333333333334, 3.0, 6.2, 5.533333333333333, 5.433333333333334, 4.6, 5.35, 3.933333333333333, 4.516666666666667, 4.516666666666667, 5.266666666666667, 4.166666666666667, 4.833333333333333, 4.333333333333333, 5.433333333333334, 4.516666666666667, 5.433333333333334, 4.516666666666667, 4.85, 4.6, 4.6, 4.516666666666667, 3.683333333333333, 5.516666666666667, 4.25, 7.6, 3.7666666666666666, 4.916666666666667, 4.916666666666667, 4.766666666666667, 6.1, 4.85, 5.916666666666667, 5.766666666666667, 3.75, 5.35, 4.35, 3.85, 5.216666666666667, 5.1, 4.0, 4.383333333333334, 5.8, 4.283333333333333, 5.366666666666666, 3.3666666666666667, 3.7, 3.8666666666666667, 5.333333333333333, 3.433333333333333, 4.55, 3.283333333333333, 5.1, 2.3333333333333335, 3.7, 5.583333333333333, 5.066666666666666, 3.0166666666666666, 4.333333333333333, 4.25, 2.6166666666666667, 3.7333333333333334, 3.433333333333333, 6.716666666666667, 3.283333333333333, 6.966666666666667, 4.116666666666666, 50.13333333333333, 4.55, 5.8, 3.7, 5.55, 4.65, 5.7, 3.4166666666666665, 4.75, 4.5, 5.25, 6.183333333333334, 5.516666666666667, 5.85, 5.1, 3.3333333333333335, 11.033333333333333, 3.2333333333333334, 3.0166666666666666, 3.6, 5.016666666666667, 3.783333333333333, 4.066666666666666, 4.583333333333333, 5.1]\n",
      "1 2\n",
      "[4.45, 3.316666666666667, 4.933333333333334, 5.85, 3.7666666666666666, 5.266666666666667, 3.6666666666666665, 3.6666666666666665, 3.35, 3.683333333333333, 4.166666666666667, 4.933333333333334, 5.016666666666667, 4.983333333333333, 4.5, 5.366666666666666, 5.233333333333333, 5.266666666666667, 4.583333333333333, 6.1, 4.433333333333334, 4.616666666666666, 3.783333333333333, 6.6, 4.016666666666667, 4.7, 5.0, 5.35, 6.6, 4.016666666666667, 3.5166666666666666, 4.683333333333334, 3.4166666666666665, 4.333333333333333, 3.5166666666666666, 3.683333333333333, 3.35, 5.85, 6.933333333333334, 4.933333333333334, 3.5833333333333335, 5.35, 4.683333333333334, 5.366666666666666, 4.333333333333333, 4.85, 5.766666666666667, 6.766666666666667, 6.016666666666667, 6.766666666666667, 5.433333333333334, 6.6, 5.5, 4.1, 4.1, 4.6, 4.016666666666667, 5.433333333333334, 6.183333333333334, 5.183333333333334, 5.35, 4.683333333333334, 3.2333333333333334, 3.5, 6.033333333333333, 4.6, 5.016666666666667, 4.833333333333333, 4.5, 6.25, 4.766666666666667, 4.35, 7.066666666666666, 5.1, 4.1, 7.283333333333333, 5.433333333333334, 4.85, 6.183333333333334, 3.85, 4.433333333333334, 5.083333333333333, 4.1, 4.85, 5.85, 4.916666666666667, 5.016666666666667, 5.016666666666667, 4.183333333333334, 5.016666666666667, 4.583333333333333, 4.183333333333334, 4.0, 5.016666666666667, 4.933333333333334, 3.683333333333333, 5.933333333333334, 3.933333333333333, 4.333333333333333, 6.933333333333334, 5.166666666666667, 5.183333333333334, 5.35, 5.35, 4.516666666666667, 5.85, 4.833333333333333, 6.183333333333334, 5.433333333333334, 5.066666666666666, 5.35, 4.933333333333334, 5.516666666666667, 4.016666666666667, 5.766666666666667, 5.183333333333334, 5.516666666666667, 5.733333333333333, 5.45, 5.35, 4.483333333333333, 5.6, 5.466666666666667, 5.733333333333333, 5.183333333333334, 4.55, 4.35, 4.116666666666666, 4.466666666666667, 4.383333333333334, 4.283333333333333, 4.7, 4.95, 4.533333333333333, 7.566666666666666, 3.966666666666667, 5.066666666666666, 4.516666666666667, 4.883333333333334, 5.633333333333334, 4.266666666666667, 3.35, 4.533333333333333, 4.016666666666667, 5.1, 4.416666666666667, 5.216666666666667, 5.383333333333334, 6.25, 3.9833333333333334, 3.533333333333333, 7.566666666666666, 4.216666666666667, 3.966666666666667, 5.6, 4.35, 4.033333333333333, 6.45, 3.5166666666666666, 4.2, 4.166666666666667, 5.183333333333334, 4.883333333333334, 7.483333333333333, 4.783333333333333, 3.283333333333333, 5.483333333333333, 5.4, 5.466666666666667, 4.133333333333334, 5.45, 6.483333333333333, 4.716666666666667, 8.1, 4.983333333333333, 3.95, 4.933333333333334, 4.0, 4.35, 6.6, 4.5, 5.35, 6.966666666666667, 5.5, 5.266666666666667, 0.0, 9.283333333333333, 4.75, 5.1, 9.283333333333333, 4.766666666666667, 4.433333333333334, 4.666666666666667, 4.85, 4.6, 3.933333333333333, 5.683333333333334, 4.85, 4.416666666666667, 5.35, 5.1, 4.766666666666667, 4.25, 3.9166666666666665, 3.9166666666666665, 6.25, 6.266666666666667, 3.85, 4.2, 4.7, 4.866666666666666, 4.516666666666667, 6.183333333333334, 5.35]\n",
      "1 3\n",
      "[4.433333333333334, 2.9166666666666665, 3.75, 3.2666666666666666, 3.5833333333333335, 4.083333333333333, 3.183333333333333, 4.6, 4.083333333333333, 5.166666666666667, 4.683333333333334, 4.1, 5.1, 6.6, 4.766666666666667, 3.7, 5.05, 4.433333333333334, 4.633333333333334, 6.416666666666667, 3.9166666666666665, 6.683333333333334, 4.6, 4.0, 4.266666666666667, 3.8333333333333335, 5.183333333333334, 4.266666666666667, 4.266666666666667, 3.0166666666666666, 4.166666666666667, 3.933333333333333, 3.5833333333333335, 5.266666666666667, 3.8333333333333335, 3.8333333333333335, 4.016666666666667, 6.266666666666667, 3.8333333333333335, 5.216666666666667, 5.416666666666667, 5.933333333333334, 5.35, 2.9166666666666665, 3.5, 3.75, 5.016666666666667, 5.016666666666667, 5.516666666666667, 5.1, 6.516666666666667, 5.1, 5.983333333333333, 4.183333333333334, 10.2, 11.45, 4.933333333333334, 6.85, 4.166666666666667, 6.433333333333334, 5.583333333333333, 4.5, 6.016666666666667, 5.85, 4.7, 4.766666666666667, 3.683333333333333, 3.6, 4.766666666666667, 4.6, 6.616666666666666, 4.6, 4.833333333333333, 5.333333333333333, 5.1, 5.333333333333333, 3.75, 5.016666666666667, 3.9166666666666665, 5.516666666666667, 3.683333333333333, 5.516666666666667, 4.416666666666667, 4.35, 4.266666666666667, 5.516666666666667, 4.583333333333333, 6.016666666666667, 5.1, 4.183333333333334, 4.166666666666667, 4.1, 5.016666666666667, 4.083333333333333, 4.766666666666667, 4.6, 4.166666666666667, 4.183333333333334, 43.266666666666666, 6.25, 4.6, 6.416666666666667, 4.916666666666667, 4.516666666666667, 5.0, 5.6, 3.5833333333333335, 7.35, 5.016666666666667, 6.266666666666667, 5.85, 5.016666666666667, 4.1, 5.766666666666667, 5.0, 4.166666666666667, 3.683333333333333, 5.85, 3.9166666666666665, 5.35, 6.016666666666667, 5.116666666666666, 8.65, 4.6, 5.383333333333334, 5.133333333333334, 5.916666666666667, 4.55, 5.516666666666667, 4.766666666666667, 5.016666666666667, 4.4, 6.133333333333334, 6.616666666666666, 4.533333333333333, 4.566666666666666, 7.15, 4.383333333333334, 3.6333333333333333, 3.95, 4.633333333333334, 4.883333333333334, 4.783333333333333, 4.883333333333334, 5.883333333333334, 5.283333333333333, 5.416666666666667, 3.95, 4.75, 4.533333333333333, 4.45, 5.533333333333333, 7.016666666666667, 3.6333333333333333, 3.933333333333333, 4.35, 3.95, 3.9, 4.216666666666667, 6.266666666666667, 4.316666666666666, 6.15, 4.55, 4.05, 4.4, 6.55, 4.366666666666666, 6.816666666666666, 4.783333333333333, 4.666666666666667, 4.183333333333334, 5.3, 4.633333333333334, 4.883333333333334, 4.2, 5.383333333333334, 4.983333333333333, 4.366666666666666, 5.133333333333334, 4.45, 3.95, 13.366666666666667, 8.066666666666666, 8.066666666666666, 5.533333333333333, 5.916666666666667, 4.2, 7.4, 4.85, 4.016666666666667, 4.016666666666667, 6.15, 4.683333333333334, 4.366666666666666, 3.2, 3.6, 3.95, 4.966666666666667, 4.566666666666666, 5.783333333333333, 6.05, 5.55, 5.466666666666667, 4.65, 6.15, 5.65, 5.7, 6.233333333333333, 3.816666666666667, 7.866666666666666, 3.3666666666666667, 6.1, 5.166666666666667, 5.683333333333334, 5.016666666666667, 7.816666666666666, 4.583333333333333, 6.416666666666667, 5.6, 4.516666666666667, 2.5833333333333335, 5.233333333333333, 3.75, 5.316666666666666, 3.6, 5.516666666666667, 5.266666666666667, 3.85, 5.1]\n",
      "1 4\n"
     ]
    },
    {
     "name": "stdout",
     "output_type": "stream",
     "text": [
      "[4.583333333333333, 4.85, 4.5, 5.35, 4.35, 3.7666666666666666, 3.9166666666666665, 3.0166666666666666, 3.0833333333333335, 3.5166666666666666, 3.433333333333333, 2.85, 4.433333333333334, 4.75, 3.183333333333333, 4.016666666666667, 3.5, 4.85, 2.75, 5.85, 4.333333333333333, 4.35, 5.183333333333334, 3.1666666666666665, 3.933333333333333, 5.35, 4.75, 3.683333333333333, 5.433333333333334, 5.0, 5.0, 4.25, 4.25, 4.25, 4.183333333333334, 3.8333333333333335, 5.016666666666667, 3.75, 5.0, 4.1, 4.016666666666667, 4.666666666666667, 3.9166666666666665, 5.266666666666667, 3.7666666666666666, 3.433333333333333, 3.0166666666666666, 3.683333333333333, 4.016666666666667, 4.083333333333333, 4.6, 4.6, 3.75, 4.583333333333333, 4.266666666666667, 3.5166666666666666, 4.683333333333334, 3.6, 4.1, 3.35, 4.25, 4.933333333333334, 5.5, 5.35, 5.6, 5.083333333333333, 4.5, 5.716666666666667, 3.4166666666666665, 4.583333333333333, 3.8333333333333335, 3.6, 4.35, 3.9166666666666665, 4.183333333333334, 7.266666666666667, 4.933333333333334, 6.6, 4.35, 5.183333333333334, 5.016666666666667, 5.433333333333334, 8.5, 7.416666666666667, 6.183333333333334, 4.683333333333334, 5.433333333333334, 5.35, 5.1, 5.516666666666667, 5.266666666666667, 4.35, 4.183333333333334, 4.933333333333334, 6.6, 4.916666666666667, 4.833333333333333, 6.083333333333333, 4.833333333333333, 4.916666666666667, 5.35, 3.75, 4.166666666666667, 5.016666666666667, 4.35, 39.833333333333336, 4.75, 4.716666666666667, 3.933333333333333, 4.583333333333333, 5.683333333333334, 5.1, 4.183333333333334, 4.516666666666667, 4.766666666666667, 4.433333333333334, 4.0, 3.5833333333333335, 3.933333333333333, 4.433333333333334, 5.266666666666667, 5.6, 5.516666666666667, 3.85, 5.083333333333333, 5.1, 3.7666666666666666, 6.516666666666667, 3.7666666666666666, 3.75, 6.433333333333334, 5.183333333333334, 4.183333333333334, 4.916666666666667, 5.85, 39.083333333333336, 5.683333333333334, 4.666666666666667, 5.516666666666667, 4.85, 4.583333333333333, 6.85, 5.5, 5.1, 4.683333333333334, 5.333333333333333, 4.933333333333334, 4.433333333333334, 5.516666666666667, 5.516666666666667, 5.25, 4.6, 5.666666666666667, 5.516666666666667, 4.666666666666667, 4.766666666666667, 6.1, 4.35, 5.916666666666667, 37.166666666666664, 3.85, 4.85, 3.933333333333333, 5.433333333333334, 3.9166666666666665, 3.6, 4.516666666666667, 5.683333333333334, 5.016666666666667, 4.583333333333333, 5.433333333333334, 33.083333333333336, 4.35, 4.333333333333333, 3.816666666666667, 5.766666666666667, 4.75, 4.6, 5.25, 4.75, 5.183333333333334, 5.5, 4.666666666666667, 3.8, 4.833333333333333, 4.65, 5.15, 8.116666666666667, 4.233333333333333, 3.8666666666666667, 6.466666666666667, 3.8666666666666667, 6.05, 3.8666666666666667, 5.8, 4.116666666666666, 3.716666666666667, 4.566666666666666, 4.216666666666667, 3.7, 3.55, 5.466666666666667, 3.783333333333333, 3.033333333333333, 4.45, 3.8, 5.833333333333333, 5.966666666666667, 3.6166666666666667, 5.083333333333333, 4.716666666666667, 4.883333333333334, 4.45, 4.133333333333334, 3.816666666666667, 4.016666666666667, 4.516666666666667, 4.283333333333333, 4.45, 4.783333333333333, 5.716666666666667, 4.033333333333333, 4.983333333333333, 4.616666666666666, 4.35, 3.433333333333333, 3.533333333333333, 5.55, 4.966666666666667, 4.55, 35.93333333333333, 2.6, 3.3833333333333333, 5.216666666666667, 5.383333333333334, 5.016666666666667, 7.666666666666667, 5.216666666666667, 4.283333333333333, 5.033333333333333, 4.533333333333333, 2.95, 4.533333333333333, 3.6166666666666667, 3.8666666666666667, 4.866666666666666, 5.7, 4.566666666666666, 4.266666666666667, 4.716666666666667, 4.233333333333333, 14.866666666666667, 6.316666666666666, 9.25, 6.483333333333333, 5.816666666666666, 5.35, 4.4, 6.483333333333333, 4.183333333333334, 6.316666666666666, 3.95, 5.633333333333334, 3.6166666666666667, 4.65, 3.183333333333333, 5.883333333333334, 4.883333333333334, 4.7, 3.8833333333333333, 3.7, 3.316666666666667, 4.7, 3.3666666666666667, 11.616666666666667, 5.283333333333333, 4.466666666666667, 5.55, 5.983333333333333, 4.45, 4.966666666666667, 5.283333333333333, 4.883333333333334, 3.95, 5.966666666666667, 4.633333333333334, 5.7, 5.033333333333333, 4.6, 3.9, 4.1, 3.8833333333333333, 4.2, 4.366666666666666, 3.85, 3.716666666666667, 4.266666666666667, 4.516666666666667, 4.5, 5.433333333333334, 3.683333333333333, 30.233333333333334, 5.85, 5.6, 18.8, 5.333333333333333, 4.0, 4.85, 4.05, 5.1, 4.683333333333334, 3.4166666666666665, 5.083333333333333, 5.266666666666667, 4.35, 5.1, 4.516666666666667, 35.766666666666666]\n",
      "1 5\n",
      "[6.266666666666667, 5.083333333333333, 4.433333333333334, 6.55, 4.183333333333334, 9.45, 3.5833333333333335, 3.5833333333333335, 2.85, 3.6, 3.35, 3.35, 4.416666666666667, 4.35, 4.333333333333333, 3.35, 3.433333333333333, 3.8333333333333335, 4.333333333333333, 4.266666666666667, 3.816666666666667, 5.766666666666667, 7.183333333333334, 3.683333333333333, 4.683333333333334, 4.1, 3.8333333333333335, 3.6, 4.166666666666667, 5.933333333333334, 7.183333333333334, 5.083333333333333, 4.6, 3.85, 3.1666666666666665, 2.6666666666666665, 33.31666666666667, 4.25, 3.5166666666666666, 4.583333333333333, 4.0, 3.9166666666666665, 4.666666666666667, 6.183333333333334, 5.683333333333334, 3.816666666666667, 14.616666666666667, 4.6, 4.25, 5.35, 3.0166666666666666, 4.916666666666667, 4.166666666666667, 3.5166666666666666, 4.25, 8.016666666666667, 6.866666666666666, 6.95, 4.433333333333334, 4.816666666666666, 5.433333333333334, 4.6, 3.9166666666666665, 5.416666666666667, 5.683333333333334, 4.833333333333333, 4.1, 4.516666666666667, 4.35, 9.016666666666667, 4.766666666666667, 5.683333333333334, 4.266666666666667, 5.333333333333333, 4.516666666666667, 5.183333333333334, 6.433333333333334, 5.933333333333334, 12.533333333333333, 3.6666666666666665, 5.416666666666667, 6.35, 8.516666666666667, 14.466666666666667, 7.866666666666666, 6.35, 6.433333333333334, 4.683333333333334, 5.266666666666667, 3.6666666666666665, 4.166666666666667, 4.516666666666667, 5.6, 4.933333333333334, 4.516666666666667, 4.6, 3.75, 8.35, 4.766666666666667, 4.333333333333333, 4.466666666666667, 5.15, 4.183333333333334, 4.0, 4.866666666666666, 5.15, 9.6, 6.233333333333333, 4.533333333333333, 7.816666666666666, 4.2, 5.066666666666666, 6.233333333333333, 4.716666666666667, 2.783333333333333, 9.033333333333333, 4.75, 4.533333333333333, 4.35, 3.8666666666666667, 3.9166666666666665, 3.75, 3.783333333333333, 4.066666666666666, 4.55, 4.366666666666666, 3.95, 4.533333333333333, 6.1, 6.0, 6.2, 4.55, 4.983333333333333, 5.383333333333334, 4.3, 3.6166666666666667, 5.783333333333333, 3.783333333333333, 3.45, 8.333333333333334, 7.816666666666666, 7.583333333333333, 6.0, 4.95, 6.216666666666667, 5.883333333333334, 5.116666666666666, 3.95, 3.433333333333333, 4.283333333333333, 3.1, 3.783333333333333, 5.966666666666667, 8.133333333333333, 13.8, 5.783333333333333, 3.95, 4.45, 0.7166666666666667, 1.3833333333333333, 34.71666666666667, 0.06666666666666667, 1.0333333333333334, 0.75, 1.25, 4.016666666666667, 4.35, 6.433333333333334, 4.35, 4.666666666666667, 21.05, 4.85, 4.75, 6.7, 5.266666666666667, 5.35, 3.933333333333333, 6.266666666666667, 5.083333333333333, 5.083333333333333, 3.716666666666667, 4.083333333333333, 8.766666666666667, 4.616666666666666, 6.016666666666667, 4.433333333333334, 5.6]\n",
      "1 6\n",
      "[3.7666666666666666, 24.966666666666665, 3.1, 3.6666666666666665, 3.683333333333333, 3.1666666666666665, 4.5, 3.35, 4.6, 4.183333333333334, 2.9166666666666665, 4.6, 4.516666666666667, 4.5, 3.75, 3.7666666666666666, 3.1, 4.516666666666667, 2.6666666666666665, 4.55, 3.25, 3.4166666666666665, 3.4166666666666665, 4.25, 3.6, 4.1, 2.75, 5.1, 5.266666666666667, 5.016666666666667, 4.6, 3.683333333333333, 3.7666666666666666, 3.75, 2.6666666666666665, 5.266666666666667, 4.6, 4.766666666666667, 3.5833333333333335, 4.35, 3.85, 7.933333333333334, 3.85, 3.7666666666666666, 3.5833333333333335, 4.083333333333333, 4.85, 7.183333333333334, 3.183333333333333, 3.1666666666666665, 10.783333333333333, 5.1, 4.25, 4.333333333333333, 5.1, 3.933333333333333, 3.35, 4.083333333333333, 3.2666666666666666, 3.4166666666666665, 6.6, 3.7666666666666666, 2.9166666666666665, 5.516666666666667, 4.433333333333334, 2.8333333333333335, 4.333333333333333, 4.016666666666667, 4.683333333333334, 3.85, 7.35, 5.166666666666667, 3.433333333333333, 3.25, 3.6, 3.85, 4.616666666666666, 7.7, 3.5, 3.566666666666667, 5.066666666666666, 7.3, 3.5, 4.3, 4.283333333333333, 3.716666666666667, 7.466666666666667, 5.616666666666666, 5.216666666666667, 3.8833333333333333, 5.966666666666667, 8.233333333333333, 6.566666666666666, 4.466666666666667, 3.45, 9.6, 4.933333333333334, 4.916666666666667, 3.8333333333333335, 4.916666666666667, 4.433333333333334, 5.1, 4.166666666666667, 3.433333333333333, 5.6, 4.516666666666667, 8.6, 4.0, 5.35, 2.8333333333333335, 5.1, 5.6, 3.75, 3.8333333333333335]\n",
      "2 0\n"
     ]
    },
    {
     "name": "stdout",
     "output_type": "stream",
     "text": [
      "[4.433333333333334, 4.933333333333334, 3.25, 2.3333333333333335, 3.5166666666666666, 2.6, 2.5833333333333335, 2.85, 2.5833333333333335, 4.25, 7.516666666666667, 3.7666666666666666, 4.266666666666667, 3.0833333333333335, 4.766666666666667, 4.666666666666667, 3.683333333333333, 3.0166666666666666, 3.683333333333333, 3.85, 5.1, 3.533333333333333, 3.8333333333333335, 3.25, 5.016666666666667, 4.016666666666667, 4.433333333333334, 4.166666666666667, 4.266666666666667, 4.016666666666667, 4.416666666666667, 5.266666666666667, 3.5, 3.9166666666666665, 3.9166666666666665, 3.5, 4.233333333333333, 3.6666666666666665, 3.933333333333333, 4.183333333333334, 3.933333333333333, 3.683333333333333, 4.6, 3.433333333333333, 3.0166666666666666, 3.2666666666666666, 5.266666666666667, 4.35, 5.6, 5.1, 3.4166666666666665, 3.25, 3.35, 2.1666666666666665, 4.1, 4.85, 4.6, 3.6666666666666665, 4.266666666666667, 2.5, 2.6666666666666665, 3.85, 3.683333333333333, 2.933333333333333, 4.016666666666667, 3.7666666666666666, 3.3333333333333335, 4.783333333333333, 3.6333333333333333, 7.083333333333333, 9.883333333333333, 11.433333333333334, 5.5, 3.35, 3.1, 4.3, 3.566666666666667, 6.066666666666666, 3.95, 3.2666666666666666, 8.433333333333334, 6.05, 10.933333333333334, 4.683333333333334, 3.1666666666666665, 3.2666666666666666, 4.016666666666667, 4.1, 4.6, 4.933333333333334, 5.333333333333333, 3.0833333333333335, 3.75, 4.183333333333334, 4.35, 4.133333333333334, 2.8833333333333333, 5.0, 4.1, 3.9166666666666665]\n",
      "2 1\n",
      "[4.85, 4.333333333333333, 3.5, 4.266666666666667, 2.85, 3.0166666666666666, 3.85, 4.433333333333334, 4.933333333333334, 3.5833333333333335, 3.25, 4.1, 6.2, 4.3, 4.383333333333334, 5.116666666666666, 5.166666666666667, 4.416666666666667, 3.9166666666666665, 5.016666666666667, 4.433333333333334, 5.066666666666666, 4.166666666666667, 3.8333333333333335, 0.0, 4.433333333333334, 4.1, 5.05, 3.0833333333333335, 4.266666666666667, 4.516666666666667, 3.433333333333333, 4.85, 3.75, 5.266666666666667, 4.933333333333334, 5.0, 5.433333333333334, 3.683333333333333, 5.933333333333334, 4.25, 6.316666666666666, 4.416666666666667, 4.916666666666667, 4.083333333333333, 5.766666666666667, 4.433333333333334, 5.25, 5.266666666666667, 6.766666666666667, 3.5833333333333335, 6.1, 4.933333333333334, 4.916666666666667, 4.25, 4.016666666666667, 5.1, 3.683333333333333, 3.933333333333333, 3.933333333333333, 6.35, 5.016666666666667, 6.1, 5.766666666666667, 5.933333333333334, 4.75, 4.516666666666667, 4.266666666666667, 5.6, 4.1, 5.35, 4.583333333333333, 3.25, 3.2666666666666666, 4.766666666666667, 4.016666666666667, 6.433333333333334, 4.166666666666667, 5.25, 5.733333333333333, 4.933333333333334, 4.3, 5.233333333333333, 3.1, 4.55, 3.5166666666666666, 5.15, 4.533333333333333, 4.033333333333333, 4.8, 4.033333333333333, 4.033333333333333, 3.5, 4.1, 3.9833333333333334, 4.466666666666667, 3.1166666666666667, 3.533333333333333, 3.95, 3.683333333333333, 3.6166666666666667, 5.883333333333334, 4.233333333333333, 3.6333333333333333, 4.633333333333334, 6.833333333333333, 4.566666666666666, 4.466666666666667, 4.883333333333334, 4.033333333333333, 4.3, 6.766666666666667, 4.3, 3.95, 3.033333333333333, 4.05, 3.8666666666666667, 3.6166666666666667, 3.8666666666666667, 3.55, 3.7, 3.85, 4.033333333333333, 3.966666666666667, 5.016666666666667, 5.216666666666667, 3.5833333333333335, 5.683333333333334, 4.433333333333334, 5.183333333333334, 4.516666666666667, 4.016666666666667, 3.85, 3.85, 4.583333333333333, 4.466666666666667, 4.516666666666667, 3.5833333333333335, 3.35, 3.5, 3.683333333333333]\n",
      "2 2\n",
      "[9.683333333333334, 4.35, 4.433333333333334, 5.05, 4.083333333333333, 5.1, 4.183333333333334, 5.016666666666667, 5.183333333333334, 4.166666666666667, 3.683333333333333, 0.0, 4.1, 5.433333333333334, 3.85, 3.5166666666666666, 4.683333333333334, 6.933333333333334, 5.016666666666667, 4.416666666666667, 5.35, 4.183333333333334, 3.933333333333333, 5.7, 4.55, 4.5, 4.85, 6.566666666666666, 4.016666666666667, 4.6, 5.683333333333334, 4.433333333333334, 4.183333333333334, 4.266666666666667, 7.016666666666667, 4.183333333333334, 5.433333333333334, 7.1, 4.0, 4.766666666666667, 4.433333333333334, 9.866666666666667, 4.6, 4.25, 5.183333333333334, 3.5833333333333335, 3.75, 8.366666666666667, 4.933333333333334, 7.15, 4.916666666666667, 6.2, 4.783333333333333, 5.1, 3.4166666666666665, 3.933333333333333, 4.766666666666667, 3.7666666666666666, 7.766666666666667, 4.516666666666667, 4.833333333333333, 5.1, 4.0, 5.0, 5.6, 3.35, 4.833333333333333, 5.766666666666667, 5.183333333333334, 5.1, 13.8, 4.516666666666667, 5.016666666666667, 9.016666666666667, 4.183333333333334, 4.666666666666667, 11.366666666666667, 4.5, 7.1, 6.016666666666667, 4.766666666666667, 4.85, 7.683333333333334, 4.433333333333334, 4.75, 7.266666666666667, 5.35, 4.416666666666667, 4.766666666666667, 5.016666666666667, 4.416666666666667, 4.933333333333334, 4.666666666666667, 5.1, 5.016666666666667, 4.416666666666667, 6.933333333333334, 4.583333333333333, 5.516666666666667, 8.45, 4.683333333333334, 4.516666666666667, 4.416666666666667, 4.85, 4.933333333333334, 9.016666666666667, 5.516666666666667, 5.1, 8.616666666666667, 4.433333333333334, 5.433333333333334, 9.1, 5.766666666666667, 4.416666666666667, 7.433333333333334, 4.583333333333333, 4.35, 6.183333333333334, 5.6, 5.1, 6.933333333333334, 4.833333333333333, 5.1, 5.1, 4.0, 4.933333333333334, 6.183333333333334, 4.016666666666667, 6.1, 6.85, 4.933333333333334, 5.1, 7.7, 5.183333333333334, 4.166666666666667, 6.966666666666667, 4.783333333333333, 6.1, 8.666666666666666, 3.6166666666666667, 6.416666666666667, 3.966666666666667, 6.383333333333334, 4.366666666666666, 8.766666666666667, 3.5166666666666666, 6.333333333333333, 6.566666666666666, 4.716666666666667, 6.05, 5.966666666666667, 3.3, 6.233333333333333, 5.883333333333334, 5.05, 5.033333333333333, 7.166666666666667, 4.083333333333333, 4.833333333333333, 5.2, 3.75, 4.8, 7.65, 4.616666666666666, 3.7, 5.116666666666666, 4.45, 4.866666666666666, 5.833333333333333, 2.7666666666666666, 4.85, 6.483333333333333, 4.916666666666667, 5.45, 4.133333333333334, 4.483333333333333, 4.966666666666667, 5.8, 4.6, 4.883333333333334, 12.45, 4.2, 4.233333333333333, 4.65, 4.366666666666666, 3.8666666666666667, 3.7333333333333334, 9.1, 5.3, 5.45, 8.216666666666667, 4.116666666666666, 3.2666666666666666, 4.616666666666666, 4.466666666666667, 4.716666666666667, 3.533333333333333, 4.55, 3.45, 6.816666666666666, 4.55, 5.183333333333334, 3.683333333333333, 4.616666666666666, 4.1, 4.8, 6.966666666666667, 5.366666666666666, 5.033333333333333, 4.416666666666667, 35.71666666666667, 5.683333333333334, 5.266666666666667, 6.016666666666667, 9.016666666666667, 5.266666666666667, 4.683333333333334, 6.85, 4.083333333333333, 4.35, 8.216666666666667, 6.533333333333333, 5.1, 5.516666666666667, 4.5, 5.083333333333333, 6.583333333333333, 5.266666666666667, 4.6, 5.166666666666667, 4.766666666666667, 3.7666666666666666, 6.35, 4.0, 5.016666666666667, 3.8333333333333335, 3.5166666666666666, 5.016666666666667, 4.916666666666667, 4.916666666666667, 4.916666666666667, 4.183333333333334, 6.266666666666667, 3.5166666666666666, 4.583333333333333, 4.75, 4.933333333333334, 6.183333333333334, 5.1, 4.6, 5.766666666666667, 5.166666666666667, 5.683333333333334, 4.933333333333334, 4.433333333333334, 4.783333333333333, 4.916666666666667]\n",
      "2 3\n",
      "[4.85, 4.85, 5.183333333333334, 4.916666666666667, 4.25, 6.6, 4.516666666666667, 3.933333333333333, 3.6666666666666665, 3.3333333333333335, 4.083333333333333, 3.0, 5.016666666666667, 4.75, 3.433333333333333, 4.35, 5.1, 4.083333333333333, 5.816666666666666, 4.683333333333334, 6.65, 5.35, 4.983333333333333, 6.083333333333333, 4.2, 4.533333333333333, 4.25, 4.233333333333333, 4.333333333333333, 5.266666666666667, 4.916666666666667, 7.35, 4.35, 3.683333333333333, 4.766666666666667, 4.766666666666667, 4.683333333333334, 4.35, 5.266666666666667, 4.666666666666667, 3.75, 4.1, 8.266666666666667, 3.3333333333333335, 4.6, 3.0833333333333335, 3.25, 2.7666666666666666, 4.75, 6.25, 3.7666666666666666, 4.016666666666667, 4.083333333333333, 4.166666666666667, 3.75, 4.1, 5.85, 4.783333333333333, 5.45, 6.516666666666667, 6.433333333333334, 6.6, 4.6, 6.916666666666667, 6.433333333333334, 6.783333333333333, 37.78333333333333, 5.75, 6.016666666666667, 4.266666666666667, 5.183333333333334, 5.85, 4.85, 4.833333333333333, 5.75, 5.6, 4.616666666666666, 4.183333333333334, 4.0, 4.35, 5.35, 3.6666666666666665, 4.916666666666667, 4.916666666666667, 5.35, 4.5, 5.1, 4.683333333333334, 5.6, 4.1, 4.333333333333333, 5.766666666666667, 4.25, 4.083333333333333, 5.25, 4.333333333333333, 3.85, 4.683333333333334, 4.35, 3.6, 5.333333333333333, 5.716666666666667, 5.45, 5.083333333333333, 5.1, 6.35, 4.5, 5.083333333333333, 4.85, 5.433333333333334, 5.5, 4.683333333333334, 5.1, 5.666666666666667, 4.85, 4.666666666666667, 5.766666666666667, 5.266666666666667, 3.8333333333333335, 5.433333333333334, 6.016666666666667, 5.25, 6.266666666666667, 4.683333333333334, 5.683333333333334, 4.35, 5.85, 5.183333333333334, 5.016666666666667, 4.766666666666667, 4.266666666666667, 5.85, 4.6, 4.6, 3.75, 6.1, 5.666666666666667, 4.516666666666667, 33.75, 3.6, 4.183333333333334, 4.75, 5.383333333333334, 5.8, 12.216666666666667, 5.3, 5.666666666666667, 4.533333333333333, 9.766666666666667, 3.6166666666666667, 4.7, 4.7, 7.483333333333333, 4.466666666666667, 4.716666666666667, 4.133333333333334, 5.05, 3.8, 4.116666666666666, 4.116666666666666, 6.133333333333334, 4.366666666666666, 4.8, 4.4, 6.0, 4.35, 4.966666666666667, 3.433333333333333, 7.483333333333333, 4.616666666666666, 3.95, 6.216666666666667, 4.383333333333334, 4.433333333333334, 4.583333333333333, 5.333333333333333, 4.383333333333334, 5.6, 4.216666666666667, 4.45, 4.466666666666667, 3.1333333333333333, 4.283333333333333, 7.233333333333333, 3.2666666666666666, 3.3666666666666667, 4.583333333333333, 5.516666666666667, 5.2, 3.783333333333333, 4.533333333333333, 4.45, 3.8666666666666667, 3.8666666666666667, 4.65, 4.816666666666666, 5.966666666666667, 4.95, 3.8666666666666667, 4.033333333333333, 3.783333333333333, 3.6166666666666667, 5.466666666666667, 8.483333333333333, 4.8, 5.816666666666666, 3.933333333333333, 4.716666666666667, 5.3, 6.05, 4.433333333333334, 5.366666666666666, 4.033333333333333, 2.95, 4.116666666666666, 4.2, 9.166666666666666, 5.133333333333334, 5.7, 7.783333333333333, 4.583333333333333, 6.05, 4.983333333333333, 5.25, 42.416666666666664, 5.383333333333334, 39.0, 47.7, 4.833333333333333, 5.083333333333333, 4.916666666666667, 3.933333333333333, 5.516666666666667, 5.0, 4.266666666666667, 4.583333333333333, 4.016666666666667, 6.766666666666667, 31.65, 4.75, 5.333333333333333, 6.35, 5.683333333333334, 5.6, 3.5833333333333335, 6.216666666666667, 4.333333333333333, 4.616666666666666]\n",
      "2 4\n"
     ]
    },
    {
     "name": "stdout",
     "output_type": "stream",
     "text": [
      "[5.516666666666667, 4.5, 5.516666666666667, 5.333333333333333, 5.6, 4.266666666666667, 4.266666666666667, 3.35, 3.25, 3.183333333333333, 5.416666666666667, 3.933333333333333, 3.3333333333333335, 3.6666666666666665, 3.9166666666666665, 4.35, 4.766666666666667, 3.0833333333333335, 3.5166666666666666, 3.5, 3.5833333333333335, 3.933333333333333, 4.666666666666667, 4.016666666666667, 3.7666666666666666, 4.916666666666667, 4.1, 4.083333333333333, 4.7, 4.1, 4.083333333333333, 5.25, 4.6, 7.8, 2.6666666666666665, 3.966666666666667, 5.2, 4.983333333333333, 4.016666666666667, 4.366666666666666, 4.433333333333334, 5.016666666666667, 5.3, 4.583333333333333, 3.6166666666666667, 4.0, 4.0, 4.016666666666667, 3.35, 4.183333333333334, 5.433333333333334, 7.433333333333334, 6.266666666666667, 6.166666666666667, 6.366666666666666, 6.433333333333334, 5.766666666666667, 4.583333333333333, 5.166666666666667, 5.183333333333334, 5.083333333333333, 4.766666666666667, 3.7666666666666666, 3.4166666666666665, 3.7666666666666666, 4.516666666666667, 3.9166666666666665, 4.166666666666667, 5.25, 2.5, 3.25, 4.1, 4.933333333333334, 4.516666666666667, 4.783333333333333, 4.933333333333334, 3.933333333333333, 5.083333333333333, 4.0, 3.5166666666666666, 4.0, 5.516666666666667, 5.1, 4.433333333333334, 4.766666666666667, 6.283333333333333, 3.5833333333333335, 5.433333333333334, 6.1, 4.683333333333334, 5.933333333333334, 4.35, 3.6666666666666665, 5.433333333333334, 5.516666666666667, 5.35, 7.433333333333334, 8.533333333333333, 50.46666666666667, 4.933333333333334, 4.516666666666667, 5.183333333333334, 5.016666666666667, 5.933333333333334, 4.933333333333334, 4.766666666666667, 3.7666666666666666, 5.1, 7.183333333333334, 4.75, 4.75, 3.6, 5.3, 4.433333333333334, 3.9166666666666665, 5.433333333333334, 4.766666666666667, 4.266666666666667, 5.35, 5.266666666666667, 33.18333333333333, 4.433333333333334, 5.35, 3.1666666666666665, 5.266666666666667, 6.6, 4.583333333333333, 3.433333333333333, 4.5, 3.5, 4.083333333333333, 4.166666666666667, 5.683333333333334, 4.683333333333334, 4.1, 4.766666666666667, 4.933333333333334, 4.266666666666667, 4.6, 6.016666666666667, 3.4166666666666665, 3.933333333333333, 4.766666666666667, 3.7666666666666666, 4.433333333333334, 4.35, 5.266666666666667, 5.566666666666666, 3.75, 4.0, 5.25, 6.183333333333334, 4.85, 4.5, 5.683333333333334, 5.25, 4.0, 4.25, 5.35, 7.35, 4.683333333333334, 8.85, 5.1, 4.416666666666667, 4.1, 5.933333333333334, 4.266666666666667, 4.416666666666667, 4.766666666666667, 3.4166666666666665, 4.516666666666667, 4.583333333333333, 5.416666666666667, 4.933333333333334, 5.166666666666667, 6.016666666666667, 5.683333333333334, 5.6, 5.766666666666667, 5.35, 5.683333333333334, 3.9166666666666665, 3.9166666666666665, 4.5, 4.25, 4.0, 4.833333333333333, 5.35, 4.183333333333334, 4.166666666666667, 5.766666666666667, 4.35, 6.1, 4.85, 3.7333333333333334, 4.55, 4.35, 5.666666666666667, 4.95, 4.016666666666667, 4.166666666666667, 4.566666666666666, 4.766666666666667, 7.3, 5.216666666666667, 5.116666666666666, 9.25, 5.2, 5.4, 7.983333333333333, 4.716666666666667, 48.15, 6.583333333333333, 4.666666666666667, 4.283333333333333, 6.733333333333333, 3.783333333333333, 3.85, 4.033333333333333, 6.3, 4.616666666666666, 4.116666666666666, 6.4, 4.45, 7.083333333333333, 4.033333333333333, 4.116666666666666, 5.2, 2.85, 6.816666666666666, 4.916666666666667, 4.35, 9.5, 4.616666666666666, 3.4833333333333334, 5.383333333333334, 4.216666666666667, 5.166666666666667, 5.15, 3.183333333333333, 4.05, 5.75, 4.25, 4.883333333333334, 5.05, 5.133333333333334, 5.316666666666666, 4.3, 4.633333333333334, 4.95, 3.3666666666666667, 4.2, 5.216666666666667, 4.45, 4.8, 4.333333333333333, 2.6, 4.966666666666667, 3.933333333333333, 3.95, 5.733333333333333, 3.8666666666666667, 4.2, 5.616666666666666, 3.8666666666666667, 4.616666666666666, 6.05, 4.916666666666667, 3.533333333333333, 5.2, 4.133333333333334, 4.383333333333334, 4.116666666666666, 3.5166666666666666, 3.2, 5.133333333333334, 6.3, 4.983333333333333, 5.4, 5.483333333333333, 5.3, 3.3666666666666667, 2.85, 2.8666666666666667, 2.7, 3.1166666666666667, 3.466666666666667, 7.316666666666666, 5.216666666666667, 5.816666666666666, 9.5, 5.066666666666666, 9.75, 5.05, 4.966666666666667, 5.016666666666667, 6.216666666666667, 5.366666666666666, 4.966666666666667, 4.683333333333334, 4.05, 3.783333333333333, 7.066666666666666, 4.2, 4.866666666666666, 4.516666666666667, 4.783333333333333, 5.133333333333334, 3.2, 2.7, 4.2, 3.3666666666666667, 4.283333333333333, 3.7, 4.916666666666667, 3.3333333333333335, 3.9166666666666665, 4.033333333333333, 4.683333333333334, 3.966666666666667, 5.9, 4.45, 5.2, 5.55, 5.55, 5.55, 5.816666666666666, 5.116666666666666, 5.433333333333334, 4.566666666666666, 4.816666666666666, 4.55, 2.2666666666666666, 4.65, 5.433333333333334, 35.75, 1.3333333333333333, 6.183333333333334, 4.583333333333333, 4.5, 5.766666666666667, 4.516666666666667, 5.016666666666667, 5.35, 3.433333333333333, 4.1, 4.183333333333334, 3.683333333333333, 3.5, 5.833333333333333, 4.516666666666667, 4.083333333333333, 4.5, 4.433333333333334, 4.666666666666667, 4.25, 3.6666666666666665, 3.933333333333333, 3.4166666666666665, 3.6, 4.433333333333334, 4.516666666666667, 6.183333333333334, 4.183333333333334, 5.083333333333333, 5.033333333333333, 3.7333333333333334, 5.05, 3.8666666666666667, 3.283333333333333]\n",
      "2 5\n",
      "[4.933333333333334, 5.516666666666667, 5.516666666666667, 10.366666666666667, 5.433333333333334, 10.266666666666667, 6.766666666666667, 6.183333333333334, 7.85, 6.766666666666667, 3.35, 3.7666666666666666, 4.35, 4.0, 5.6, 3.6, 5.266666666666667, 9.1, 6.35, 3.8333333333333335, 4.0, 3.433333333333333, 3.0, 6.183333333333334, 5.183333333333334, 7.266666666666667, 5.5, 4.166666666666667, 5.833333333333333, 5.3, 5.05, 4.333333333333333, 4.433333333333334, 6.25, 5.433333333333334, 4.916666666666667, 4.266666666666667, 7.883333333333334, 7.183333333333334, 11.366666666666667, 6.6, 5.6, 10.1, 8.083333333333334, 12.1, 4.516666666666667, 3.85, 3.933333333333333, 4.933333333333334, 3.933333333333333, 6.183333333333334, 6.233333333333333, 10.933333333333334, 4.333333333333333, 3.4166666666666665, 3.3333333333333335, 4.35, 4.716666666666667, 4.016666666666667, 4.15, 4.183333333333334, 3.5833333333333335, 6.266666666666667, 8.2, 6.833333333333333, 7.266666666666667, 5.25, 5.35, 4.516666666666667, 4.183333333333334, 5.433333333333334, 4.683333333333334, 7.766666666666667, 6.85, 9.283333333333333, 5.933333333333334, 4.666666666666667, 5.6, 4.416666666666667, 5.766666666666667, 5.166666666666667, 8.6, 3.5166666666666666, 5.0, 6.35, 10.783333333333333, 5.183333333333334, 4.766666666666667, 6.85, 4.6, 6.266666666666667, 5.433333333333334, 4.266666666666667, 5.583333333333333, 4.683333333333334, 5.1, 5.183333333333334, 8.85, 4.516666666666667, 6.6, 6.0, 4.266666666666667, 4.766666666666667, 6.1, 4.6, 5.85, 4.816666666666666, 10.316666666666666, 5.366666666666666, 5.166666666666667, 4.2, 14.283333333333333, 9.416666666666666, 6.233333333333333, 6.4, 5.8, 4.383333333333334, 6.316666666666666, 5.05, 6.233333333333333, 3.2, 11.283333333333333, 5.633333333333334, 4.033333333333333, 6.3, 7.25, 4.366666666666666, 3.8833333333333333, 9.15, 4.966666666666667, 8.85, 5.883333333333334, 3.6166666666666667, 4.1, 4.45, 7.383333333333334, 4.45, 4.783333333333333, 12.45, 4.95, 3.283333333333333, 4.616666666666666, 3.7, 5.8, 4.9, 4.333333333333333, 8.783333333333333, 2.3666666666666667, 3.0166666666666666, 4.666666666666667, 12.366666666666667, 4.983333333333333, 9.15, 5.816666666666666, 5.716666666666667, 12.1, 3.3666666666666667, 3.783333333333333, 3.966666666666667, 6.733333333333333, 5.016666666666667, 6.816666666666666, 9.333333333333334, 4.366666666666666, 4.816666666666666, 6.466666666666667, 8.416666666666666, 4.966666666666667, 6.55, 5.85, 4.866666666666666, 3.95, 0.16666666666666666, 22.95, 37.983333333333334, 11.85, 10.95, 4.766666666666667, 4.583333333333333, 4.766666666666667, 4.333333333333333, 3.75, 4.6, 5.35, 4.183333333333334, 5.433333333333334, 5.683333333333334, 5.516666666666667, 6.85, 7.283333333333333, 7.433333333333334, 6.766666666666667, 6.85, 6.6, 4.916666666666667, 8.266666666666667, 8.016666666666667, 5.85, 7.866666666666666, 3.5833333333333335, 3.95, 4.85, 4.5]\n",
      "2 6\n"
     ]
    },
    {
     "name": "stdout",
     "output_type": "stream",
     "text": [
      "[7.1, 6.266666666666667, 3.8333333333333335, 4.333333333333333, 3.7666666666666666, 3.4166666666666665, 5.516666666666667, 6.85, 4.5, 5.516666666666667, 5.1, 16.7, 4.35, 4.433333333333334, 2.75, 2.85, 9.35, 9.483333333333333, 5.016666666666667, 4.333333333333333, 4.683333333333334, 4.583333333333333, 6.1, 5.35, 3.9166666666666665, 4.55, 2.6666666666666665, 3.1, 3.7666666666666666, 4.6, 7.383333333333334, 3.5166666666666666, 3.2666666666666666, 3.35, 2.5833333333333335, 3.183333333333333, 5.433333333333334, 3.5, 5.433333333333334, 4.516666666666667, 3.6, 3.933333333333333, 2.3333333333333335, 7.35, 3.85, 4.85, 5.85, 2.9166666666666665, 3.0166666666666666, 14.616666666666667, 6.35, 4.6, 3.1, 3.3333333333333335, 4.35, 9.433333333333334, 5.183333333333334, 4.35, 4.333333333333333, 3.2666666666666666, 3.933333333333333, 6.083333333333333, 4.766666666666667, 4.85, 3.4166666666666665, 3.75, 4.0, 3.9166666666666665, 5.183333333333334, 3.0166666666666666, 3.8333333333333335, 4.6, 6.6, 5.183333333333334, 4.516666666666667, 7.616666666666666, 4.166666666666667, 3.6, 13.2, 4.933333333333334, 7.1, 4.433333333333334, 4.1, 4.433333333333334, 3.7666666666666666, 3.4166666666666665, 4.333333333333333, 6.516666666666667, 16.866666666666667, 6.683333333333334, 5.35, 3.5, 4.666666666666667, 7.683333333333334, 5.35, 5.083333333333333, 4.266666666666667, 4.85, 6.766666666666667, 5.6, 5.166666666666667, 5.0, 4.083333333333333, 6.516666666666667, 4.833333333333333, 2.5833333333333335, 4.0, 3.1666666666666665, 5.266666666666667, 2.7666666666666666, 3.7666666666666666, 3.2666666666666666, 4.25, 5.433333333333334, 7.533333333333333, 4.833333333333333, 4.0, 4.1, 3.4166666666666665, 3.933333333333333, 6.95, 5.0, 4.916666666666667, 6.316666666666666, 6.9, 4.85, 3.6, 4.616666666666666, 4.35, 7.483333333333333, 5.45, 4.45, 5.433333333333334, 3.6, 3.533333333333333, 7.966666666666667, 4.966666666666667, 10.633333333333333, 4.366666666666666, 3.95, 3.95, 2.1166666666666667, 33.56666666666667, 33.81666666666667, 35.0, 11.266666666666667, 6.016666666666667, 4.183333333333334, 3.566666666666667, 6.85, 4.6, 4.516666666666667, 4.5, 4.516666666666667, 4.166666666666667, 5.333333333333333, 5.85, 4.25, 4.183333333333334, 3.7666666666666666, 3.5166666666666666, 5.016666666666667, 7.6, 5.683333333333334, 4.333333333333333, 4.183333333333334, 4.333333333333333, 4.433333333333334, 4.916666666666667, 4.183333333333334, 3.3333333333333335, 3.5166666666666666, 3.3333333333333335, 3.2666666666666666, 3.8, 3.75]\n",
      "3 0\n",
      "[4.183333333333334, 4.85, 4.083333333333333, 3.35, 2.5166666666666666, 10.783333333333333, 2.433333333333333, 4.116666666666666, 3.1, 4.183333333333334, 5.35, 4.083333333333333, 3.85, 2.8333333333333335, 4.6, 4.25, 5.083333333333333, 4.6, 4.933333333333334, 4.1, 3.35, 3.9166666666666665, 3.8333333333333335, 2.816666666666667, 2.933333333333333, 9.1, 4.083333333333333, 3.3333333333333335, 3.0, 3.5166666666666666, 3.183333333333333, 4.25, 4.266666666666667, 3.0833333333333335, 3.1, 3.9166666666666665, 3.75, 4.1, 4.616666666666666, 3.9166666666666665, 3.7666666666666666, 3.25, 5.35, 3.5, 4.766666666666667, 3.683333333333333, 4.35, 4.683333333333334, 4.166666666666667, 3.0166666666666666, 3.85, 3.9166666666666665, 3.85, 4.0, 3.4166666666666665, 3.1, 4.516666666666667, 3.5166666666666666, 3.0833333333333335, 3.7666666666666666, 4.433333333333334, 4.5, 4.25, 4.666666666666667, 5.0, 4.433333333333334, 4.516666666666667, 3.0166666666666666, 5.1, 4.933333333333334, 3.4166666666666665, 4.183333333333334, 3.6666666666666665, 3.25, 3.7666666666666666, 4.583333333333333, 3.9833333333333334, 10.133333333333333, 7.316666666666666, 2.75, 2.85, 3.033333333333333, 4.716666666666667, 2.933333333333333, 8.75, 3.4, 3.0, 3.3833333333333333, 4.6, 3.3333333333333335, 3.55, 4.066666666666666, 3.6166666666666667, 3.683333333333333, 55.06666666666667, 3.6666666666666665, 2.0166666666666666, 3.683333333333333, 2.4166666666666665, 5.1]\n",
      "3 1\n",
      "[5.5, 5.183333333333334, 4.25, 3.5833333333333335, 3.683333333333333, 4.333333333333333, 3.8333333333333335, 3.2666666666666666, 2.9166666666666665, 4.65, 5.016666666666667, 4.6, 4.333333333333333, 4.333333333333333, 5.616666666666666, 4.15, 4.016666666666667, 4.35, 3.85, 5.083333333333333, 4.683333333333334, 5.2, 3.0, 3.9166666666666665, 4.933333333333334, 4.683333333333334, 4.333333333333333, 3.45, 4.383333333333334, 2.6, 4.933333333333334, 4.016666666666667, 4.183333333333334, 6.266666666666667, 5.933333333333334, 5.016666666666667, 6.683333333333334, 4.35, 5.0, 4.35, 5.0, 5.166666666666667, 4.1, 5.166666666666667, 5.916666666666667, 5.183333333333334, 4.75, 6.183333333333334, 5.35, 4.083333333333333, 4.933333333333334, 3.1666666666666665, 3.1666666666666665, 5.1, 4.1, 4.6, 4.6, 4.933333333333334, 4.266666666666667, 4.333333333333333, 5.266666666666667, 5.85, 4.85, 3.5, 3.466666666666667, 5.1, 6.016666666666667, 5.433333333333334, 5.766666666666667, 5.183333333333334, 4.35, 7.266666666666667, 4.0, 6.1, 5.166666666666667, 4.6, 4.95, 5.683333333333334, 4.95, 3.8, 4.366666666666666, 8.5, 6.05, 3.35, 6.583333333333333, 3.7, 5.383333333333334, 4.116666666666666, 5.066666666666666, 5.15, 3.2, 4.366666666666666, 3.8666666666666667, 6.666666666666667, 4.116666666666666, 3.95, 3.6166666666666667, 4.166666666666667, 4.0, 4.716666666666667, 3.7333333333333334, 4.2, 2.6, 4.633333333333334, 3.95, 3.933333333333333, 3.783333333333333, 4.266666666666667, 3.8, 4.616666666666666, 2.7666666666666666, 6.066666666666666, 7.216666666666667, 4.133333333333334, 5.816666666666666, 3.2, 6.483333333333333, 4.083333333333333, 6.066666666666666, 5.633333333333334, 5.2, 5.516666666666667, 4.6, 3.85, 4.766666666666667, 5.333333333333333, 3.85, 3.433333333333333, 4.0, 4.166666666666667, 5.016666666666667, 4.266666666666667, 4.683333333333334, 4.516666666666667]\n",
      "3 2\n",
      "[5.866666666666666, 5.433333333333334, 5.1, 6.333333333333333, 8.033333333333333, 4.933333333333334, 4.583333333333333, 3.8333333333333335, 4.683333333333334, 8.033333333333333, 4.516666666666667, 4.85, 4.35, 4.266666666666667, 3.6, 3.433333333333333, 4.266666666666667, 4.5, 3.6, 3.75, 4.683333333333334, 4.933333333333334, 4.433333333333334, 4.5, 4.166666666666667, 4.25, 5.1, 5.35, 6.016666666666667, 4.766666666666667, 4.85, 9.216666666666667, 5.266666666666667, 5.35, 4.183333333333334, 5.516666666666667, 4.6, 5.516666666666667, 5.0, 4.083333333333333, 4.75, 8.35, 5.1, 4.85, 4.9, 7.533333333333333, 4.7, 5.85, 3.933333333333333, 4.6, 4.766666666666667, 4.25, 3.5833333333333335, 3.8333333333333335, 4.85, 7.016666666666667, 5.183333333333334, 5.083333333333333, 5.166666666666667, 3.8333333333333335, 3.716666666666667, 3.65, 4.966666666666667, 4.533333333333333, 6.4, 6.083333333333333, 4.6, 6.016666666666667, 5.183333333333334, 5.066666666666666, 5.35, 4.25, 3.85, 4.516666666666667, 4.35, 4.5, 3.6, 4.85, 5.016666666666667, 5.433333333333334, 4.75, 4.1, 6.266666666666667, 4.433333333333334, 5.183333333333334, 7.1, 4.266666666666667, 4.683333333333334, 4.833333333333333, 4.933333333333334, 5.016666666666667, 7.533333333333333, 4.166666666666667, 4.516666666666667, 6.716666666666667, 3.8333333333333335, 5.1, 5.166666666666667, 4.516666666666667, 3.6, 5.6, 4.683333333333334, 5.1, 4.766666666666667, 5.516666666666667, 4.083333333333333, 4.5, 4.516666666666667, 4.333333333333333, 6.1, 5.266666666666667, 4.433333333333334, 5.1, 4.266666666666667, 4.6, 3.9166666666666665, 5.85, 5.516666666666667, 4.1, 4.5, 5.683333333333334, 5.183333333333334, 4.85, 5.1, 4.266666666666667, 4.933333333333334, 7.683333333333334, 5.433333333333334, 3.7666666666666666, 5.683333333333334, 4.183333333333334, 4.766666666666667, 6.433333333333334, 5.766666666666667, 5.183333333333334, 4.333333333333333, 3.9166666666666665, 3.75, 4.35, 4.083333333333333, 4.683333333333334, 5.433333333333334, 6.266666666666667, 5.633333333333334, 5.083333333333333, 5.683333333333334, 5.85, 5.15, 5.183333333333334, 6.15, 3.8833333333333333, 7.0, 3.283333333333333, 4.45, 7.383333333333334, 4.533333333333333, 4.033333333333333, 4.633333333333334, 5.216666666666667, 5.383333333333334, 7.9, 4.7, 5.366666666666666, 7.683333333333334, 4.616666666666666, 4.3, 4.433333333333334, 4.2, 2.8666666666666667, 3.3666666666666667, 3.783333333333333, 5.2, 5.25, 5.45, 4.383333333333334, 4.85, 4.166666666666667, 5.95, 5.183333333333334, 3.8, 6.566666666666666, 5.6, 3.45, 4.016666666666667, 2.5, 4.75, 6.916666666666667, 4.266666666666667, 5.0, 7.05, 4.6, 5.466666666666667, 4.8, 5.3, 5.05, 5.633333333333334, 4.716666666666667, 7.666666666666667, 5.133333333333334, 3.6166666666666667, 7.9, 4.966666666666667, 3.7, 7.9, 6.233333333333333, 5.15, 6.3, 4.466666666666667, 5.383333333333334, 8.416666666666666, 6.566666666666666, 5.35, 5.183333333333334, 4.85, 6.516666666666667, 9.766666666666667, 5.083333333333333, 7.016666666666667, 5.766666666666667, 5.35, 6.266666666666667, 3.9166666666666665, 4.266666666666667, 6.016666666666667, 4.1, 6.1, 5.0, 5.5, 4.666666666666667, 5.433333333333334, 6.016666666666667, 8.766666666666667, 4.75, 5.183333333333334, 6.1, 4.333333333333333, 5.016666666666667, 4.583333333333333, 3.9166666666666665, 6.933333333333334, 5.766666666666667, 5.016666666666667]\n",
      "3 3\n"
     ]
    },
    {
     "name": "stdout",
     "output_type": "stream",
     "text": [
      "[6.433333333333334, 4.5, 4.85, 3.95, 3.35, 5.016666666666667, 3.85, 4.016666666666667, 4.75, 5.183333333333334, 3.6666666666666665, 4.916666666666667, 5.266666666666667, 5.433333333333334, 3.75, 4.516666666666667, 4.35, 5.166666666666667, 5.433333333333334, 4.683333333333334, 3.9166666666666665, 3.75, 4.016666666666667, 4.516666666666667, 3.75, 5.35, 5.016666666666667, 5.5, 5.083333333333333, 6.45, 5.533333333333333, 6.616666666666666, 4.766666666666667, 4.016666666666667, 6.516666666666667, 4.1, 6.6, 5.183333333333334, 5.833333333333333, 4.916666666666667, 4.833333333333333, 4.0, 3.8333333333333335, 5.266666666666667, 3.4166666666666665, 4.433333333333334, 3.35, 3.4166666666666665, 4.75, 4.916666666666667, 5.7, 4.75, 4.366666666666666, 2.95, 5.116666666666666, 5.616666666666666, 26.833333333333332, 5.883333333333334, 5.366666666666666, 4.183333333333334, 3.433333333333333, 5.683333333333334, 3.7666666666666666, 3.933333333333333, 5.6, 4.6, 8.766666666666667, 4.6, 5.183333333333334, 4.766666666666667, 5.933333333333334, 6.183333333333334, 5.433333333333334, 5.016666666666667, 6.016666666666667, 5.1, 5.683333333333334, 5.183333333333334, 5.85, 4.516666666666667, 6.85, 4.916666666666667, 7.85, 5.35, 10.016666666666667, 36.766666666666666, 4.183333333333334, 5.1, 4.433333333333334, 5.016666666666667, 4.583333333333333, 6.35, 4.933333333333334, 4.083333333333333, 4.683333333333334, 7.0, 4.35, 5.016666666666667, 4.666666666666667, 3.9166666666666665, 4.6, 5.85, 3.683333333333333, 5.75, 5.183333333333334, 5.016666666666667, 4.85, 5.016666666666667, 5.1, 4.666666666666667, 3.85, 5.75, 4.933333333333334, 5.183333333333334, 6.6, 4.333333333333333, 5.183333333333334, 3.75, 5.35, 3.8333333333333335, 6.683333333333334, 5.016666666666667, 4.433333333333334, 4.083333333333333, 3.9166666666666665, 4.5, 4.166666666666667, 4.35, 7.35, 5.166666666666667, 5.6, 5.016666666666667, 5.683333333333334, 5.6, 6.5, 4.683333333333334, 4.6, 5.266666666666667, 6.183333333333334, 4.933333333333334, 5.683333333333334, 3.433333333333333, 5.6, 3.75, 5.183333333333334, 4.85, 6.083333333333333, 6.25, 4.533333333333333, 7.816666666666666, 5.316666666666666, 4.55, 8.733333333333333, 4.1, 4.533333333333333, 4.383333333333334, 4.116666666666666, 5.45, 4.116666666666666, 6.05, 4.833333333333333, 6.65, 4.933333333333334, 6.216666666666667, 3.783333333333333, 6.216666666666667, 4.283333333333333, 4.533333333333333, 4.633333333333334, 7.916666666666667, 3.95, 4.7, 4.45, 6.466666666666667, 3.55, 3.8666666666666667, 4.283333333333333, 3.55, 4.416666666666667, 5.066666666666666, 5.183333333333334, 4.45, 4.633333333333334, 4.783333333333333, 4.866666666666666, 5.866666666666666, 5.3, 3.2666666666666666, 3.9166666666666665, 5.316666666666666, 4.783333333333333, 6.15, 5.05, 6.116666666666666, 4.133333333333334, 6.45, 3.75, 4.083333333333333, 4.45, 2.4166666666666665, 4.083333333333333, 4.05, 3.8833333333333333, 4.633333333333334, 5.183333333333334, 4.2, 5.616666666666666, 4.616666666666666, 6.666666666666667, 4.916666666666667, 4.533333333333333, 4.966666666666667, 6.666666666666667, 4.133333333333334, 4.033333333333333, 4.483333333333333, 8.833333333333334, 4.95, 4.45, 5.05, 4.983333333333333, 5.966666666666667, 5.05, 7.733333333333333, 4.033333333333333, 3.6, 5.3, 5.633333333333334, 5.15, 6.05, 5.283333333333333, 5.55, 4.45, 5.683333333333334, 4.016666666666667, 4.933333333333334, 4.25, 5.683333333333334, 4.35, 5.666666666666667, 4.6, 4.583333333333333, 4.933333333333334, 5.1, 4.766666666666667, 4.1, 6.433333333333334, 5.183333333333334]\n",
      "3 4\n",
      "[5.516666666666667, 5.083333333333333, 3.6, 5.016666666666667, 4.666666666666667, 3.683333333333333, 3.5833333333333335, 9.266666666666667, 3.933333333333333, 3.1666666666666665, 5.1, 4.5, 3.9166666666666665, 4.25, 4.25, 4.016666666666667, 3.85, 4.266666666666667, 3.5, 4.516666666666667, 4.266666666666667, 40.416666666666664, 5.833333333333333, 4.266666666666667, 4.166666666666667, 3.683333333333333, 3.4166666666666665, 3.35, 3.25, 3.183333333333333, 3.9166666666666665, 4.433333333333334, 3.6, 4.5, 4.35, 4.016666666666667, 3.683333333333333, 4.1, 4.933333333333334, 5.266666666666667, 3.6, 5.016666666666667, 3.933333333333333, 4.95, 5.433333333333334, 5.35, 3.85, 5.433333333333334, 4.766666666666667, 3.433333333333333, 4.683333333333334, 3.1, 5.1, 4.6, 4.333333333333333, 4.583333333333333, 4.183333333333334, 5.75, 3.7666666666666666, 4.433333333333334, 4.35, 3.5833333333333335, 5.25, 32.233333333333334, 4.85, 3.1, 3.433333333333333, 3.7666666666666666, 3.433333333333333, 4.0, 4.95, 3.95, 3.9833333333333334, 6.9, 4.583333333333333, 5.35, 5.1, 4.833333333333333, 34.733333333333334, 3.6, 3.5, 4.016666666666667, 4.183333333333334, 3.6666666666666665, 4.0, 4.433333333333334, 4.433333333333334, 3.5166666666666666, 4.933333333333334, 3.85, 4.5, 6.35, 4.416666666666667, 4.083333333333333, 5.6, 3.933333333333333, 4.166666666666667, 4.433333333333334, 4.25, 4.833333333333333, 5.35, 4.35, 4.016666666666667, 5.333333333333333, 4.266666666666667, 4.35, 5.016666666666667, 5.016666666666667, 34.31666666666667, 3.933333333333333, 3.75, 4.166666666666667, 5.333333333333333, 5.516666666666667, 5.1, 4.6, 4.0, 5.516666666666667, 3.1666666666666665, 5.016666666666667, 5.183333333333334, 3.9166666666666665, 4.933333333333334, 4.85, 4.916666666666667, 4.1, 5.433333333333334, 5.016666666666667, 3.6, 4.516666666666667, 5.183333333333334, 5.35, 4.266666666666667, 4.083333333333333, 5.433333333333334, 4.416666666666667, 4.75, 5.683333333333334, 4.266666666666667, 4.6, 4.266666666666667, 4.0, 4.666666666666667, 3.8333333333333335, 3.5, 6.183333333333334, 3.5166666666666666, 4.183333333333334, 5.416666666666667, 5.0, 5.516666666666667, 3.9166666666666665, 4.266666666666667, 6.016666666666667, 4.1, 4.666666666666667, 4.35, 4.5, 3.7666666666666666, 5.35, 5.433333333333334, 4.833333333333333, 5.933333333333334, 4.516666666666667, 4.183333333333334, 6.083333333333333, 5.5, 5.183333333333334, 7.166666666666667, 5.083333333333333, 4.766666666666667, 5.416666666666667, 4.75, 4.683333333333334, 5.016666666666667, 4.516666666666667, 5.666666666666667, 5.333333333333333, 4.416666666666667, 4.25, 4.766666666666667, 3.7666666666666666, 4.516666666666667, 4.433333333333334, 5.683333333333334, 4.166666666666667, 3.433333333333333, 5.35, 4.35, 3.933333333333333, 5.35, 4.933333333333334, 4.516666666666667, 4.683333333333334, 6.616666666666666, 37.7, 4.966666666666667, 4.916666666666667, 4.616666666666666, 3.3333333333333335, 4.5, 7.316666666666666, 6.483333333333333, 7.566666666666666, 4.566666666666666, 5.366666666666666, 8.333333333333334, 5.283333333333333, 5.4, 6.966666666666667, 4.533333333333333, 4.433333333333334, 5.133333333333334, 4.966666666666667, 5.033333333333333, 5.533333333333333, 6.716666666666667, 4.55, 4.05, 4.283333333333333, 4.633333333333334, 5.883333333333334, 5.983333333333333, 3.816666666666667, 4.3, 3.3, 4.116666666666666, 5.3, 4.883333333333334, 4.783333333333333, 5.966666666666667, 3.1166666666666667, 5.366666666666666, 5.116666666666666, 4.45, 6.066666666666666, 4.25, 5.816666666666666, 3.2666666666666666, 4.166666666666667, 3.216666666666667, 3.7, 3.8666666666666667, 3.7, 4.183333333333334, 5.483333333333333, 3.45, 5.483333333333333, 5.466666666666667, 4.616666666666666, 4.533333333333333, 5.966666666666667, 4.55, 5.783333333333333, 4.25, 4.75, 5.166666666666667, 4.783333333333333, 5.6, 2.933333333333333, 3.95, 5.133333333333334, 5.383333333333334, 3.966666666666667, 5.283333333333333, 3.6666666666666665, 4.283333333333333, 4.5, 3.6166666666666667, 4.35, 3.35, 3.7, 2.7, 3.183333333333333, 1.4, 3.3666666666666667, 4.916666666666667, 4.483333333333333, 4.533333333333333, 4.866666666666666, 5.8, 4.15, 4.8, 4.25, 4.366666666666666, 4.333333333333333, 3.8833333333333333, 5.1, 7.683333333333334, 4.283333333333333, 7.316666666666666, 4.633333333333334, 5.633333333333334, 3.783333333333333, 4.716666666666667, 6.466666666666667, 4.783333333333333, 4.783333333333333, 3.8666666666666667, 4.366666666666666, 5.716666666666667, 4.533333333333333, 4.283333333333333, 5.533333333333333, 4.116666666666666, 5.4, 4.966666666666667, 3.533333333333333, 5.883333333333334, 4.766666666666667, 4.366666666666666, 5.366666666666666, 5.716666666666667, 5.216666666666667, 7.466666666666667, 4.733333333333333, 4.116666666666666, 5.133333333333334, 5.883333333333334, 4.616666666666666, 5.983333333333333, 5.333333333333333, 4.516666666666667, 4.516666666666667, 5.183333333333334, 3.6, 4.1, 4.266666666666667, 5.266666666666667, 4.766666666666667, 3.35, 4.0, 5.916666666666667, 5.35, 5.1, 5.333333333333333, 4.683333333333334, 3.3333333333333335, 4.933333333333334, 7.85, 5.433333333333334, 6.75, 4.866666666666666, 4.85, 4.516666666666667, 3.933333333333333, 4.75, 4.35, 4.85, 4.016666666666667, 4.6, 4.916666666666667]\n",
      "3 5\n"
     ]
    },
    {
     "name": "stdout",
     "output_type": "stream",
     "text": [
      "[7.6, 4.1, 4.266666666666667, 3.1, 3.6, 4.433333333333334, 5.266666666666667, 6.166666666666667, 4.133333333333334, 5.166666666666667, 4.6, 4.416666666666667, 6.6, 4.5, 4.016666666666667, 3.8333333333333335, 11.083333333333334, 4.1, 7.45, 4.616666666666666, 4.916666666666667, 3.6666666666666665, 8.45, 5.333333333333333, 5.683333333333334, 3.3333333333333335, 7.183333333333334, 6.166666666666667, 4.6, 4.1, 5.1, 4.416666666666667, 4.683333333333334, 6.8, 7.916666666666667, 3.35, 2.75, 5.6, 3.433333333333333, 5.166666666666667, 3.75, 4.683333333333334, 5.866666666666666, 5.566666666666666, 4.583333333333333, 6.65, 6.2, 3.75, 3.7666666666666666, 4.683333333333334, 5.516666666666667, 5.85, 4.85, 6.85, 10.6, 4.766666666666667, 7.6, 16.133333333333333, 3.6666666666666665, 10.083333333333334, 6.25, 4.183333333333334, 4.683333333333334, 5.183333333333334, 4.5, 4.6, 6.683333333333334, 13.366666666666667, 5.266666666666667, 6.6, 11.35, 4.85, 6.433333333333334, 12.85, 3.85, 5.516666666666667, 4.35, 4.683333333333334, 4.933333333333334, 6.266666666666667, 5.85, 6.1, 4.933333333333334, 5.183333333333334, 4.0, 5.666666666666667, 5.433333333333334, 5.933333333333334, 6.516666666666667, 8.183333333333334, 5.1, 5.666666666666667, 4.683333333333334, 6.033333333333333, 13.2, 4.5, 7.716666666666667, 6.266666666666667, 5.683333333333334, 6.55, 4.7, 11.766666666666667, 5.483333333333333, 7.566666666666666, 5.966666666666667, 5.8, 4.666666666666667, 9.683333333333334, 4.283333333333333, 4.966666666666667, 6.833333333333333, 5.65, 5.366666666666666, 8.483333333333333, 4.116666666666666, 4.116666666666666, 3.283333333333333, 4.883333333333334, 3.85, 8.666666666666666, 4.466666666666667, 4.466666666666667, 4.866666666666666, 4.5, 5.8, 5.733333333333333, 3.8666666666666667, 4.783333333333333, 3.533333333333333, 3.533333333333333, 3.6166666666666667, 5.65, 5.066666666666666, 4.033333333333333, 6.6, 7.316666666666666, 5.883333333333334, 4.216666666666667, 5.633333333333334, 4.966666666666667, 10.216666666666667, 7.416666666666667, 3.7, 4.716666666666667, 5.633333333333334, 6.55, 4.633333333333334, 8.15, 4.2, 6.366666666666666, 6.65, 4.766666666666667, 4.333333333333333, 12.033333333333333, 4.766666666666667, 6.266666666666667, 6.433333333333334, 4.516666666666667, 7.266666666666667, 8.2, 5.583333333333333, 7.266666666666667, 9.266666666666667, 13.2, 7.35, 8.266666666666667, 4.433333333333334, 3.8333333333333335, 6.85, 6.266666666666667, 4.833333333333333, 4.683333333333334, 8.35, 7.75, 8.783333333333333, 3.2666666666666666, 3.0, 9.1, 3.3333333333333335, 1.0, 10.783333333333333, 3.35, 4.6, 5.933333333333334, 7.1, 7.883333333333334, 4.766666666666667, 8.483333333333333, 5.1]\n",
      "3 6\n",
      "[6.316666666666666, 4.1, 4.766666666666667, 3.85, 3.683333333333333, 2.5, 2.25, 3.0166666666666666, 3.5166666666666666, 10.866666666666667, 3.0833333333333335, 2.5833333333333335, 3.1666666666666665, 3.7666666666666666, 6.266666666666667, 2.433333333333333, 2.8333333333333335, 4.35, 6.1, 9.866666666666667, 6.05, 6.3, 4.116666666666666, 3.5833333333333335, 3.683333333333333, 5.016666666666667, 4.266666666666667, 4.683333333333334, 4.6, 3.25, 5.833333333333333, 6.516666666666667, 4.0, 3.85, 4.683333333333334, 4.35, 3.0166666666666666, 5.266666666666667, 4.433333333333334, 3.6, 3.1666666666666665, 3.9166666666666665, 4.933333333333334, 3.433333333333333, 2.6666666666666665, 2.7666666666666666, 2.933333333333333, 3.2666666666666666, 8.316666666666666, 4.6, 5.116666666666666, 4.1, 11.616666666666667, 6.683333333333334, 4.583333333333333, 2.85, 4.333333333333333, 3.25, 11.783333333333333, 6.183333333333334, 4.166666666666667, 3.3333333333333335, 3.183333333333333, 3.1, 3.0, 3.433333333333333, 3.5833333333333335, 3.933333333333333, 8.683333333333334, 3.8333333333333335, 4.85, 4.85, 3.0, 7.6, 6.1, 6.433333333333334, 4.433333333333334, 3.4166666666666665, 3.8333333333333335, 3.683333333333333, 3.6, 8.35, 5.683333333333334, 3.5833333333333335, 3.5, 3.9166666666666665, 7.933333333333334, 5.0, 4.166666666666667, 4.016666666666667, 3.35, 3.9166666666666665, 9.933333333333334, 6.083333333333333, 4.833333333333333, 4.516666666666667, 4.683333333333334, 3.0833333333333335, 4.683333333333334, 4.1, 3.2666666666666666, 3.0166666666666666, 10.35, 5.683333333333334, 3.3333333333333335, 3.4166666666666665, 4.0, 9.35, 4.516666666666667, 5.0, 7.0, 2.4166666666666665, 10.016666666666667, 3.933333333333333, 5.183333333333334, 3.75, 6.85, 3.35, 4.016666666666667, 3.6, 3.85, 3.933333333333333, 5.65, 4.866666666666666, 4.1, 3.7, 3.816666666666667, 8.533333333333333, 6.466666666666667, 2.8666666666666667, 3.85, 4.116666666666666, 4.283333333333333, 10.6, 4.116666666666666, 4.816666666666666, 3.8333333333333335, 5.816666666666666, 4.95, 10.933333333333334, 6.85, 7.766666666666667, 4.1, 18.866666666666667, 4.5, 3.683333333333333, 5.0, 3.85, 7.35, 3.6, 5.916666666666667, 4.016666666666667, 4.016666666666667, 8.516666666666667, 5.25, 11.283333333333333, 12.533333333333333, 6.6, 3.433333333333333, 3.7666666666666666, 4.0, 4.583333333333333, 13.283333333333333, 4.5, 5.333333333333333]\n",
      "4 0\n",
      "[2.7666666666666666, 4.333333333333333, 3.5166666666666666, 4.766666666666667, 6.383333333333334, 3.783333333333333, 3.433333333333333, 4.516666666666667, 3.1, 4.016666666666667, 3.5166666666666666, 2.8333333333333335, 2.7666666666666666, 3.35, 3.4166666666666665, 3.6666666666666665, 3.933333333333333, 4.183333333333334, 3.183333333333333, 4.016666666666667, 4.166666666666667, 3.7666666666666666, 5.516666666666667, 3.8333333333333335, 4.35, 3.8333333333333335, 4.25, 3.0833333333333335, 4.1, 4.333333333333333, 3.35, 4.85, 3.2666666666666666, 3.1666666666666665, 4.266666666666667, 4.766666666666667, 4.516666666666667, 5.266666666666667, 4.683333333333334, 4.266666666666667, 3.5, 9.616666666666667, 7.766666666666667, 9.933333333333334, 9.266666666666667, 4.333333333333333, 3.4166666666666665, 3.433333333333333, 3.6, 3.5166666666666666, 4.35, 5.016666666666667, 3.5, 3.433333333333333, 2.8333333333333335, 8.683333333333334, 2.6666666666666665, 4.466666666666667, 4.516666666666667, 4.333333333333333, 4.433333333333334, 4.183333333333334, 3.1, 3.35, 4.8, 11.683333333333334, 2.6333333333333333, 3.1, 2.966666666666667, 4.016666666666667, 4.733333333333333, 3.75, 3.25, 3.0833333333333335, 3.1, 4.783333333333333, 3.216666666666667, 4.816666666666666, 4.966666666666667, 3.2666666666666666, 2.433333333333333, 2.966666666666667, 3.5833333333333335, 4.033333333333333, 6.033333333333333, 4.016666666666667, 4.1, 4.5, 4.083333333333333, 3.8333333333333335, 5.35, 3.933333333333333]\n",
      "4 1\n",
      "[5.433333333333334, 4.333333333333333, 3.0166666666666666, 3.2666666666666666, 4.766666666666667, 4.083333333333333, 3.933333333333333, 5.1, 6.516666666666667, 5.0, 4.1, 3.5833333333333335, 3.183333333333333, 4.25, 4.666666666666667, 4.416666666666667, 4.433333333333334, 3.6, 3.75, 5.016666666666667, 5.783333333333333, 3.433333333333333, 6.333333333333333, 4.433333333333334, 4.683333333333334, 3.5166666666666666, 2.4, 4.666666666666667, 4.016666666666667, 4.266666666666667, 3.9166666666666665, 5.6, 4.35, 2.6666666666666665, 4.25, 5.183333333333334, 5.1, 4.583333333333333, 4.016666666666667, 7.1, 5.35, 7.766666666666667, 4.666666666666667, 6.35, 4.433333333333334, 6.183333333333334, 4.5, 4.866666666666666, 4.133333333333334, 5.183333333333334, 4.85, 6.6, 5.0, 4.083333333333333, 4.85, 3.85, 5.85, 3.5833333333333335, 6.933333333333334, 4.6, 7.1, 4.433333333333334, 4.0, 5.1, 3.5166666666666666, 4.266666666666667, 6.516666666666667, 4.083333333333333, 6.35, 5.516666666666667, 4.35, 4.766666666666667, 6.933333333333334, 5.683333333333334, 5.166666666666667, 4.266666666666667, 4.95, 4.35, 6.383333333333334, 3.85, 3.8333333333333335, 3.3666666666666667, 3.6, 4.383333333333334, 3.3333333333333335, 4.383333333333334, 5.383333333333334, 4.116666666666666, 4.15, 4.266666666666667, 4.85, 2.933333333333333, 4.616666666666666, 3.6333333333333333, 3.0166666666666666, 6.55, 4.883333333333334, 4.883333333333334, 4.616666666666666, 2.433333333333333, 2.35, 3.566666666666667, 3.25, 3.316666666666667, 3.9, 3.966666666666667, 3.8, 5.4, 3.1166666666666667, 4.716666666666667, 3.283333333333333, 3.716666666666667, 3.95, 5.083333333333333, 5.516666666666667, 4.683333333333334, 4.55, 4.333333333333333, 4.683333333333334, 3.5166666666666666, 4.166666666666667, 4.35, 4.516666666666667, 4.25, 4.016666666666667, 3.1, 4.35, 5.416666666666667, 5.1, 5.35]\n",
      "4 2\n"
     ]
    },
    {
     "name": "stdout",
     "output_type": "stream",
     "text": [
      "[7.766666666666667, 4.6, 5.583333333333333, 5.1, 5.6, 4.516666666666667, 5.016666666666667, 4.6, 3.9166666666666665, 4.933333333333334, 3.683333333333333, 4.0, 5.933333333333334, 6.933333333333334, 4.333333333333333, 5.933333333333334, 4.333333333333333, 4.916666666666667, 4.433333333333334, 5.266666666666667, 5.35, 5.766666666666667, 5.6, 5.516666666666667, 5.35, 5.516666666666667, 4.85, 4.016666666666667, 4.6, 4.35, 7.433333333333334, 4.083333333333333, 4.083333333333333, 7.85, 3.6666666666666665, 3.85, 6.6, 5.1, 4.766666666666667, 6.516666666666667, 6.0, 5.183333333333334, 5.416666666666667, 4.516666666666667, 5.25, 5.1, 8.433333333333334, 5.65, 5.616666666666666, 6.783333333333333, 4.95, 5.283333333333333, 4.7, 4.016666666666667, 4.516666666666667, 4.6, 3.5, 4.516666666666667, 3.3333333333333335, 4.016666666666667, 6.683333333333334, 4.833333333333333, 36.65, 4.333333333333333, 4.6, 4.25, 5.083333333333333, 5.1, 9.016666666666667, 4.85, 11.033333333333333, 4.516666666666667, 4.85, 9.7, 4.25, 4.683333333333334, 9.516666666666667, 4.683333333333334, 4.933333333333334, 5.0, 5.083333333333333, 4.7, 7.183333333333334, 4.5, 5.016666666666667, 6.1, 4.333333333333333, 4.266666666666667, 4.516666666666667, 5.75, 5.1, 6.6, 5.333333333333333, 4.083333333333333, 7.766666666666667, 4.933333333333334, 5.016666666666667, 5.333333333333333, 4.016666666666667, 3.85, 5.933333333333334, 4.516666666666667, 5.083333333333333, 10.866666666666667, 5.516666666666667, 5.266666666666667, 8.266666666666667, 6.1, 5.016666666666667, 7.7, 3.3333333333333335, 7.016666666666667, 5.933333333333334, 3.9166666666666665, 5.183333333333334, 7.033333333333333, 5.683333333333334, 4.433333333333334, 8.516666666666667, 4.75, 5.183333333333334, 4.85, 5.75, 6.516666666666667, 5.183333333333334, 5.516666666666667, 5.5, 5.366666666666666, 4.783333333333333, 7.966666666666667, 4.516666666666667, 6.633333333333334, 6.566666666666666, 4.916666666666667, 3.8, 7.15, 4.133333333333334, 4.85, 6.383333333333334, 4.383333333333334, 6.9, 8.166666666666666, 4.8, 5.05, 8.083333333333334, 5.05, 5.383333333333334, 7.483333333333333, 3.1166666666666667, 5.383333333333334, 4.116666666666666, 50.766666666666666, 5.966666666666667, 3.1166666666666667, 5.033333333333333, 3.7666666666666666, 3.683333333333333, 4.766666666666667, 3.966666666666667, 11.1, 4.55, 4.983333333333333, 6.483333333333333, 4.983333333333333, 5.666666666666667, 3.183333333333333, 3.7, 3.35, 6.033333333333333, 4.933333333333334, 4.533333333333333, 4.5, 3.8666666666666667, 3.85, 6.483333333333333, 4.283333333333333, 6.133333333333334, 8.083333333333334, 3.966666666666667, 6.316666666666666, 6.383333333333334, 4.65, 6.133333333333334, 5.466666666666667, 3.783333333333333, 6.55, 6.983333333333333, 4.55, 4.716666666666667, 3.9833333333333334, 4.65, 6.1, 5.516666666666667, 5.516666666666667, 5.916666666666667, 5.1, 4.333333333333333, 4.433333333333334, 6.183333333333334, 4.766666666666667, 4.933333333333334, 8.8, 4.1, 4.6, 5.1, 4.266666666666667, 4.933333333333334, 4.583333333333333, 3.6666666666666665, 4.833333333333333, 4.85, 4.75, 4.683333333333334, 4.783333333333333, 6.85, 4.016666666666667, 5.583333333333333, 3.7666666666666666, 5.1, 3.25, 5.1, 6.583333333333333, 5.0, 5.683333333333334]\n",
      "4 3\n",
      "[4.666666666666667, 5.266666666666667, 4.433333333333334, 4.85, 5.433333333333334, 4.983333333333333, 4.4, 4.1, 8.433333333333334, 4.083333333333333, 3.75, 5.166666666666667, 4.85, 4.516666666666667, 3.8333333333333335, 3.183333333333333, 5.016666666666667, 4.333333333333333, 3.9166666666666665, 4.666666666666667, 3.8333333333333335, 5.266666666666667, 4.266666666666667, 5.1, 5.183333333333334, 3.6, 4.516666666666667, 3.9166666666666665, 5.433333333333334, 4.016666666666667, 3.933333333333333, 5.166666666666667, 4.916666666666667, 5.5, 4.1, 5.916666666666667, 7.266666666666667, 5.433333333333334, 5.283333333333333, 4.783333333333333, 4.3, 5.183333333333334, 4.333333333333333, 4.35, 5.183333333333334, 4.166666666666667, 3.75, 5.166666666666667, 4.85, 4.1, 3.5, 5.016666666666667, 4.333333333333333, 5.5, 5.25, 5.583333333333333, 5.766666666666667, 4.916666666666667, 5.1, 4.666666666666667, 6.866666666666666, 5.35, 5.933333333333334, 4.766666666666667, 5.516666666666667, 4.916666666666667, 3.75, 7.1, 40.0, 4.833333333333333, 5.516666666666667, 5.166666666666667, 6.1, 4.583333333333333, 4.183333333333334, 5.266666666666667, 3.933333333333333, 4.516666666666667, 4.333333333333333, 5.266666666666667, 3.8333333333333335, 4.933333333333334, 6.183333333333334, 4.35, 4.1, 4.6, 4.766666666666667, 4.683333333333334, 4.766666666666667, 4.183333333333334, 4.933333333333334, 3.7666666666666666, 5.166666666666667, 4.85, 4.933333333333334, 4.666666666666667, 5.016666666666667, 3.7666666666666666, 3.5833333333333335, 5.933333333333334, 4.933333333333334, 5.833333333333333, 4.85, 3.35, 5.166666666666667, 5.833333333333333, 5.266666666666667, 5.266666666666667, 4.766666666666667, 7.85, 4.516666666666667, 4.933333333333334, 4.183333333333334, 5.766666666666667, 4.1, 5.5, 5.266666666666667, 5.433333333333334, 4.6, 4.35, 5.766666666666667, 5.25, 5.083333333333333, 5.166666666666667, 4.766666666666667, 5.6, 4.766666666666667, 3.0833333333333335, 5.266666666666667, 4.433333333333334, 5.166666666666667, 4.666666666666667, 5.95, 4.5, 5.466666666666667, 4.55, 5.85, 5.15, 5.3, 4.4, 5.366666666666666, 4.933333333333334, 4.35, 4.166666666666667, 4.95, 7.166666666666667, 4.55, 4.133333333333334, 4.533333333333333, 4.866666666666666, 4.433333333333334, 4.7, 4.883333333333334, 5.383333333333334, 5.8, 5.216666666666667, 5.033333333333333, 4.783333333333333, 5.05, 4.95, 5.116666666666666, 4.483333333333333, 5.3, 4.033333333333333, 3.8833333333333333, 3.783333333333333, 5.283333333333333, 3.6, 4.066666666666666, 5.616666666666666, 4.95, 4.683333333333334, 4.366666666666666, 4.766666666666667, 4.833333333333333, 4.883333333333334, 5.216666666666667, 4.95, 4.583333333333333, 5.216666666666667, 4.05, 4.25, 3.183333333333333, 2.533333333333333, 2.783333333333333, 4.7, 4.616666666666666, 4.266666666666667, 5.683333333333334, 4.716666666666667, 5.133333333333334, 3.6166666666666667, 3.8333333333333335, 5.55, 4.7, 4.633333333333334, 7.066666666666666, 4.883333333333334, 6.216666666666667, 4.116666666666666, 5.733333333333333, 3.45, 4.05, 4.533333333333333, 6.883333333333334, 4.7, 5.633333333333334, 4.033333333333333, 5.8, 4.966666666666667, 5.4, 3.8666666666666667, 5.8, 4.216666666666667, 5.116666666666666, 3.533333333333333, 5.25, 3.6333333333333333, 4.333333333333333, 5.1, 5.5, 4.5, 5.0, 4.35, 6.433333333333334, 4.016666666666667, 5.016666666666667, 4.35, 6.016666666666667, 4.016666666666667, 4.6, 5.1, 4.85, 3.183333333333333, 4.916666666666667, 4.8, 5.216666666666667, 4.683333333333334, 3.9833333333333334, 6.683333333333334, 6.766666666666667, 6.766666666666667, 4.933333333333334]\n",
      "4 4\n",
      "[7.1, 4.0, 4.5, 5.35, 3.5, 5.566666666666666, 6.116666666666666, 5.7, 4.916666666666667, 5.466666666666667, 4.75, 7.35, 5.35, 4.0, 5.416666666666667, 3.5166666666666666, 4.6, 4.5, 4.75, 3.75, 3.433333333333333, 4.016666666666667, 3.5833333333333335, 4.183333333333334, 3.25, 3.25, 4.016666666666667, 4.433333333333334, 3.6666666666666665, 3.433333333333333, 5.766666666666667, 4.016666666666667, 3.7666666666666666, 6.016666666666667, 5.0, 5.083333333333333, 6.766666666666667, 4.516666666666667, 5.516666666666667, 7.183333333333334, 4.833333333333333, 5.766666666666667, 5.683333333333334, 4.25, 4.933333333333334, 6.683333333333334, 4.183333333333334, 0.0, 7.183333333333334, 4.833333333333333, 3.7666666666666666, 7.583333333333333, 4.183333333333334, 5.883333333333334, 4.783333333333333, 4.966666666666667, 5.266666666666667, 3.3833333333333333, 4.116666666666666, 0.0, 3.55, 5.233333333333333, 5.433333333333334, 3.683333333333333, 3.8333333333333335, 4.85, 4.333333333333333, 5.1, 3.85, 4.833333333333333, 4.0, 3.5, 4.266666666666667, 3.933333333333333, 3.433333333333333, 4.333333333333333, 3.683333333333333, 5.35, 4.35, 4.016666666666667, 5.083333333333333, 5.6, 4.766666666666667, 5.083333333333333, 4.75, 4.516666666666667, 5.416666666666667, 4.0, 6.1, 4.35, 9.033333333333333, 4.35, 8.683333333333334, 4.016666666666667, 4.416666666666667, 5.166666666666667, 4.266666666666667, 4.016666666666667, 6.016666666666667, 3.6, 5.0, 4.916666666666667, 4.583333333333333, 5.583333333333333, 5.766666666666667, 5.8, 4.5, 6.183333333333334, 6.433333333333334, 4.1, 5.85, 4.266666666666667, 5.0, 5.416666666666667, 6.833333333333333, 3.7666666666666666, 4.266666666666667, 7.016666666666667, 5.916666666666667, 3.7666666666666666, 4.016666666666667, 4.6, 4.1, 4.933333333333334, 5.6, 5.1, 5.433333333333334, 4.516666666666667, 3.75, 5.183333333333334, 4.833333333333333, 4.683333333333334, 4.85, 6.016666666666667, 4.266666666666667, 5.183333333333334, 4.35, 5.166666666666667, 4.35, 4.5, 4.35, 4.0, 5.1, 4.766666666666667, 4.266666666666667, 5.183333333333334, 3.7666666666666666, 4.583333333333333, 4.933333333333334, 4.6, 4.333333333333333, 4.683333333333334, 4.75, 4.516666666666667, 5.1, 5.75, 5.433333333333334, 5.6, 5.266666666666667, 7.433333333333334, 5.35, 5.766666666666667, 7.766666666666667, 4.933333333333334, 6.166666666666667, 9.016666666666667, 4.183333333333334, 5.6, 5.933333333333334, 4.85, 5.516666666666667, 6.016666666666667, 4.766666666666667, 6.183333333333334, 6.35, 4.683333333333334, 4.683333333333334, 5.1, 6.433333333333334, 3.85, 4.35, 3.9166666666666665, 3.9166666666666665, 5.85, 4.1, 3.3333333333333335, 5.166666666666667, 4.75, 3.85, 4.6, 4.683333333333334, 4.516666666666667, 6.5, 4.75, 4.183333333333334, 5.0, 5.1, 33.06666666666667, 5.65, 6.783333333333333, 5.45, 4.95, 4.666666666666667, 3.8333333333333335, 5.15, 33.71666666666667, 4.8, 5.166666666666667, 6.266666666666667, 3.4166666666666665, 5.166666666666667, 4.616666666666666, 4.966666666666667, 4.783333333333333, 4.783333333333333, 4.533333333333333, 5.966666666666667, 5.15, 4.45, 4.033333333333333, 6.633333333333334, 5.55, 6.316666666666666, 3.6, 6.483333333333333, 3.8, 3.75, 4.45, 3.55, 3.783333333333333, 5.416666666666667, 4.883333333333334, 4.116666666666666, 4.45, 5.233333333333333, 3.8, 38.86666666666667, 4.15, 3.3333333333333335, 6.133333333333334, 4.616666666666666, 4.133333333333334, 5.066666666666666, 4.383333333333334, 4.983333333333333, 3.9833333333333334, 4.783333333333333, 4.933333333333334, 5.05, 5.966666666666667, 5.133333333333334, 27.083333333333332, 3.216666666666667, 3.6, 4.016666666666667, 3.7, 2.816666666666667, 3.2, 6.533333333333333, 3.8833333333333333, 4.4, 5.366666666666666, 3.216666666666667, 4.133333333333334, 4.5, 3.65, 3.9, 4.1, 4.133333333333334, 4.816666666666666, 4.316666666666666, 5.033333333333333, 0.0, 4.033333333333333, 5.383333333333334, 4.633333333333334, 5.983333333333333, 8.316666666666666, 4.533333333333333, 5.55, 5.3, 3.6166666666666667, 4.033333333333333, 4.616666666666666, 4.316666666666666, 4.616666666666666, 5.633333333333334, 4.633333333333334, 8.416666666666666, 5.45, 6.233333333333333, 4.216666666666667, 5.583333333333333, 5.05, 4.133333333333334, 4.9, 5.733333333333333, 5.216666666666667, 4.066666666666666, 5.966666666666667, 4.033333333333333, 5.833333333333333, 4.416666666666667, 4.166666666666667, 3.4, 4.95, 3.466666666666667, 3.8, 5.266666666666667, 4.016666666666667, 6.1, 4.583333333333333, 6.266666666666667, 6.1, 4.166666666666667, 4.666666666666667, 10.35, 4.266666666666667, 9.183333333333334, 4.6, 4.166666666666667, 5.6, 5.433333333333334, 4.6, 4.766666666666667, 4.1, 44.06666666666667, 5.7, 4.683333333333334, 4.516666666666667, 6.35, 4.166666666666667, 3.75, 8.516666666666667, 3.9166666666666665, 3.7333333333333334, 5.683333333333334, 4.166666666666667, 3.8333333333333335, 4.916666666666667, 3.7666666666666666, 3.933333333333333, 5.533333333333333, 4.35]\n",
      "4 5\n"
     ]
    },
    {
     "name": "stdout",
     "output_type": "stream",
     "text": [
      "[5.766666666666667, 7.6, 7.6, 5.183333333333334, 4.766666666666667, 5.35, 9.65, 4.4, 5.883333333333334, 5.016666666666667, 6.35, 3.933333333333333, 3.183333333333333, 8.966666666666667, 9.783333333333333, 7.766666666666667, 7.1, 5.933333333333334, 8.683333333333334, 6.683333333333334, 11.35, 4.766666666666667, 4.766666666666667, 3.933333333333333, 3.683333333333333, 5.933333333333334, 9.516666666666667, 7.95, 9.766666666666667, 5.666666666666667, 8.933333333333334, 4.583333333333333, 6.1, 5.183333333333334, 5.1, 5.183333333333334, 10.35, 7.816666666666666, 5.2, 4.85, 5.866666666666666, 4.183333333333334, 14.133333333333333, 6.7, 8.45, 7.016666666666667, 5.1, 4.083333333333333, 6.516666666666667, 4.0, 6.933333333333334, 4.933333333333334, 5.516666666666667, 5.516666666666667, 5.083333333333333, 6.016666666666667, 5.5, 4.75, 5.516666666666667, 6.183333333333334, 8.116666666666667, 7.35, 8.683333333333334, 7.35, 5.016666666666667, 4.083333333333333, 6.016666666666667, 6.683333333333334, 3.2666666666666666, 4.25, 4.583333333333333, 5.083333333333333, 12.116666666666667, 4.433333333333334, 3.8333333333333335, 5.266666666666667, 7.683333333333334, 5.85, 11.283333333333333, 6.683333333333334, 7.7, 5.85, 4.1, 4.85, 3.75, 4.6, 5.333333333333333, 7.083333333333333, 3.4166666666666665, 5.5, 6.25, 5.266666666666667, 15.966666666666667, 5.933333333333334, 5.016666666666667, 5.833333333333333, 5.983333333333333, 4.566666666666666, 8.05, 4.183333333333334, 5.033333333333333, 3.783333333333333, 3.8833333333333333, 4.933333333333334, 4.233333333333333, 9.766666666666667, 5.75, 6.583333333333333, 6.066666666666666, 5.633333333333334, 8.15, 6.25, 5.633333333333334, 3.8666666666666667, 5.116666666666666, 4.683333333333334, 4.65, 4.983333333333333, 6.383333333333334, 5.2, 3.9166666666666665, 3.966666666666667, 3.9166666666666665, 3.466666666666667, 4.383333333333334, 6.083333333333333, 3.6333333333333333, 4.75, 5.5, 7.65, 10.95, 5.05, 3.816666666666667, 9.35, 4.216666666666667, 4.45, 10.933333333333334, 7.15, 10.766666666666667, 5.316666666666666, 4.083333333333333, 8.183333333333334, 2.6666666666666665, 4.1, 10.1, 7.85, 9.283333333333333, 0.0, 9.183333333333334, 6.516666666666667, 4.85, 6.766666666666667, 6.6, 8.766666666666667, 5.016666666666667, 6.433333333333334, 4.516666666666667, 3.5166666666666666, 6.933333333333334, 7.6, 6.016666666666667, 4.933333333333334, 7.683333333333334, 6.6, 7.183333333333334, 7.183333333333334, 4.933333333333334, 5.666666666666667, 7.6, 2.433333333333333, 9.516666666666667, 13.033333333333333, 6.016666666666667, 3.933333333333333, 5.016666666666667, 9.616666666666667, 4.75, 8.1, 3.85, 11.6, 6.266666666666667, 5.933333333333334, 14.283333333333333]\n",
      "4 6\n",
      "[5.433333333333334, 4.766666666666667, 3.933333333333333, 3.75, 3.25, 3.6, 8.4, 5.8, 4.783333333333333, 4.833333333333333, 4.6, 6.95, 4.683333333333334, 5.1, 3.9166666666666665, 5.266666666666667, 4.516666666666667, 2.85, 3.85, 3.25, 6.083333333333333, 4.333333333333333, 4.516666666666667, 5.266666666666667, 3.8333333333333335, 2.85, 2.6666666666666665, 5.6, 3.5166666666666666, 4.35, 7.516666666666667, 3.1, 2.8333333333333335, 3.5833333333333335, 8.516666666666667, 6.766666666666667, 5.35, 3.5166666666666666, 5.1, 3.35, 6.933333333333334, 7.2, 12.7, 3.0833333333333335, 3.35, 4.166666666666667, 3.6666666666666665, 3.5166666666666666, 6.183333333333334, 3.85, 3.85, 3.85, 4.583333333333333, 6.6, 3.433333333333333, 3.5166666666666666, 4.35, 7.933333333333334, 5.1, 4.433333333333334, 4.1, 4.25, 4.416666666666667, 3.1, 4.666666666666667, 3.85, 3.8333333333333335, 3.5833333333333335, 3.9166666666666665, 4.333333333333333, 4.85, 4.583333333333333, 4.266666666666667, 3.6666666666666665, 5.35, 3.75, 4.75, 4.1, 3.4166666666666665, 4.6, 4.666666666666667, 3.9166666666666665, 3.3333333333333335, 3.433333333333333, 5.183333333333334, 3.6, 4.683333333333334, 4.683333333333334, 4.416666666666667, 5.433333333333334, 3.8333333333333335, 3.75, 4.0, 4.75, 4.916666666666667, 4.85, 4.6, 4.516666666666667, 4.016666666666667, 8.1, 4.516666666666667, 5.683333333333334, 5.833333333333333, 3.8333333333333335, 5.116666666666666, 3.0833333333333335, 6.45, 17.15, 4.7, 4.4, 4.25, 4.116666666666666, 7.066666666666666, 3.7, 4.45, 5.316666666666666, 4.2, 6.383333333333334, 6.283333333333333, 4.883333333333334, 4.9, 3.7, 3.0, 4.95, 4.883333333333334, 4.8, 4.783333333333333, 6.016666666666667, 5.016666666666667, 4.933333333333334, 7.183333333333334, 6.766666666666667, 4.35, 4.433333333333334, 3.5833333333333335, 3.25, 3.2666666666666666, 3.1666666666666665, 10.95, 5.35, 6.183333333333334, 7.85, 5.166666666666667, 3.85, 3.5, 5.6, 5.35]\n",
      "5 0\n",
      "[3.4166666666666665, 4.0, 4.583333333333333, 3.25, 4.683333333333334, 3.066666666666667, 3.85, 3.6666666666666665, 11.616666666666667, 6.0, 3.183333333333333, 8.95, 3.75, 4.75, 2.4166666666666665, 8.1, 2.3333333333333335, 3.85, 4.35, 3.0166666666666666, 4.083333333333333, 4.0, 4.266666666666667, 3.9166666666666665, 5.1, 3.0, 4.266666666666667, 4.166666666666667, 3.6, 3.7666666666666666, 4.516666666666667, 3.933333333333333, 4.266666666666667, 3.6666666666666665, 4.583333333333333, 3.433333333333333, 4.333333333333333, 4.3, 7.433333333333334, 7.1, 41.833333333333336, 4.166666666666667, 3.1666666666666665, 4.95, 2.933333333333333, 4.016666666666667, 4.633333333333334, 3.033333333333333, 5.366666666666666, 3.85, 4.6, 4.016666666666667, 16.55, 4.683333333333334, 3.75, 3.7666666666666666, 4.25, 4.183333333333334, 2.683333333333333, 3.0, 4.016666666666667, 3.0166666666666666, 3.7666666666666666, 5.516666666666667, 4.433333333333334, 3.1666666666666665, 4.166666666666667, 4.85, 3.3333333333333335, 3.4166666666666665, 3.35, 4.183333333333334, 3.85]\n",
      "5 1\n",
      "[4.683333333333334, 3.6, 4.416666666666667, 7.85, 5.85, 4.083333333333333, 4.55, 4.583333333333333, 3.1, 4.183333333333334, 4.1, 3.25, 3.433333333333333, 3.6666666666666665, 3.65, 4.35, 3.5166666666666666, 5.45, 4.433333333333334, 5.433333333333334, 4.75, 5.616666666666666, 4.85, 3.5833333333333335, 4.45, 3.6666666666666665, 3.0166666666666666, 4.683333333333334, 7.6, 5.333333333333333, 4.583333333333333, 3.5833333333333335, 3.433333333333333, 4.0, 4.016666666666667, 3.6333333333333333, 4.683333333333334, 4.933333333333334, 4.6, 4.683333333333334, 5.016666666666667, 4.016666666666667, 3.75, 5.766666666666667, 4.266666666666667, 4.583333333333333, 4.933333333333334, 4.583333333333333, 4.433333333333334, 4.333333333333333, 4.85, 4.25, 4.183333333333334, 5.75, 5.35, 3.9166666666666665, 4.35, 5.1, 5.266666666666667, 4.35, 4.266666666666667, 3.9166666666666665, 3.85, 4.75, 5.266666666666667, 5.666666666666667, 4.766666666666667, 4.666666666666667, 5.016666666666667, 4.816666666666666, 4.75, 4.3, 3.783333333333333, 8.033333333333333, 3.3, 6.933333333333334, 3.283333333333333, 6.233333333333333, 3.2, 3.7, 3.6166666666666667, 5.016666666666667, 2.7, 5.65, 3.783333333333333, 4.7, 4.533333333333333, 4.866666666666666, 3.6333333333333333, 7.166666666666667, 2.8, 6.233333333333333, 4.133333333333334, 10.283333333333333, 6.4, 4.35, 3.6333333333333333, 4.466666666666667, 4.216666666666667, 3.966666666666667, 5.233333333333333, 3.8333333333333335, 3.816666666666667, 4.783333333333333, 4.733333333333333, 4.45, 4.816666666666666, 3.8833333333333333, 4.616666666666666, 2.8666666666666667, 3.3833333333333333, 6.816666666666666, 3.783333333333333, 5.383333333333334, 4.683333333333334, 5.25, 5.1, 4.666666666666667, 4.6, 3.7666666666666666, 4.266666666666667, 4.183333333333334, 5.083333333333333, 4.516666666666667, 4.016666666666667, 6.233333333333333, 3.4166666666666665, 4.866666666666666, 4.6, 4.25]\n",
      "5 2\n",
      "[3.933333333333333, 5.183333333333334, 4.6, 30.316666666666666, 5.35, 5.433333333333334, 6.35, 4.35, 5.083333333333333, 5.85, 5.333333333333333, 6.616666666666666, 6.316666666666666, 4.333333333333333, 4.216666666666667, 5.433333333333334, 4.516666666666667, 4.183333333333334, 4.266666666666667, 3.433333333333333, 4.416666666666667, 3.933333333333333, 3.8333333333333335, 4.65, 4.85, 7.7, 4.433333333333334, 5.333333333333333, 4.85, 4.85, 3.6666666666666665, 4.183333333333334, 5.433333333333334, 4.916666666666667, 9.35, 4.35, 4.766666666666667, 7.016666666666667, 4.6, 6.933333333333334, 5.35, 5.25, 6.1, 4.35, 4.7, 5.716666666666667, 4.866666666666666, 3.966666666666667, 4.016666666666667, 3.933333333333333, 4.516666666666667, 5.85, 5.766666666666667, 4.6, 4.183333333333334, 3.2666666666666666, 3.75, 31.15, 7.433333333333334, 3.85, 7.516666666666667, 4.433333333333334, 4.966666666666667, 6.316666666666666, 4.75, 0.4166666666666667, 1.0833333333333333, 1.35, 0.016666666666666666, 3.2, 6.516666666666667, 4.916666666666667, 8.6, 4.85, 5.016666666666667, 4.183333333333334, 4.85, 6.6, 5.6, 3.933333333333333, 8.45, 4.833333333333333, 6.933333333333334, 5.6, 4.416666666666667, 4.516666666666667, 5.85, 4.683333333333334, 5.85, 5.6, 4.416666666666667, 5.433333333333334, 6.516666666666667, 3.7666666666666666, 4.183333333333334, 5.266666666666667, 4.933333333333334, 4.1, 6.933333333333334, 5.683333333333334, 4.933333333333334, 3.9166666666666665, 4.516666666666667, 4.6, 4.683333333333334, 4.433333333333334, 5.433333333333334, 8.1, 6.516666666666667, 4.766666666666667, 7.783333333333333, 5.0, 4.933333333333334, 6.35, 4.416666666666667, 23.633333333333333, 3.3333333333333335, 4.0, 4.0, 5.85, 4.35, 9.7, 5.6, 4.266666666666667, 4.683333333333334, 8.116666666666667, 4.516666666666667, 5.6, 5.266666666666667, 4.433333333333334, 4.733333333333333, 7.816666666666666, 5.133333333333334, 5.35, 5.083333333333333, 7.566666666666666, 3.3666666666666667, 7.5, 4.683333333333334, 4.05, 5.133333333333334, 4.633333333333334, 3.966666666666667, 5.2, 5.3, 4.65, 6.05, 5.883333333333334, 3.6, 7.416666666666667, 4.75, 5.15, 8.416666666666666, 4.733333333333333, 5.3, 5.7, 5.133333333333334, 3.433333333333333, 4.6, 4.9, 5.483333333333333, 5.616666666666666, 4.183333333333334, 3.5166666666666666, 8.083333333333334, 4.666666666666667, 4.883333333333334, 7.066666666666666, 4.283333333333333, 3.716666666666667, 7.483333333333333, 4.7, 4.866666666666666, 4.433333333333334, 3.3833333333333333, 3.4166666666666665, 6.116666666666666, 4.283333333333333, 3.716666666666667, 8.15, 4.8, 3.0166666666666666, 5.3, 4.2, 4.45, 5.133333333333334, 4.716666666666667, 4.966666666666667, 6.966666666666667, 5.866666666666666, 4.466666666666667, 8.733333333333333, 4.7, 5.366666666666666, 6.733333333333333, 4.033333333333333, 3.55, 4.883333333333334, 4.216666666666667, 5.033333333333333, 7.4, 5.233333333333333, 4.816666666666666, 5.616666666666666, 5.2, 3.933333333333333, 7.0, 6.0, 5.683333333333334, 7.35, 4.683333333333334, 5.516666666666667, 4.766666666666667, 5.016666666666667, 7.183333333333334, 3.5833333333333335, 4.016666666666667, 4.933333333333334, 4.5, 6.933333333333334, 3.85, 4.933333333333334, 5.5, 5.1, 4.833333333333333, 3.6666666666666665, 3.6666666666666665, 6.016666666666667, 4.933333333333334, 4.433333333333334, 5.85, 4.35]\n",
      "5 3\n"
     ]
    },
    {
     "name": "stdout",
     "output_type": "stream",
     "text": [
      "[6.5, 5.016666666666667, 5.733333333333333, 3.816666666666667, 4.416666666666667, 6.933333333333334, 4.0, 3.933333333333333, 4.6, 4.85, 4.3, 4.183333333333334, 4.75, 3.75, 7.183333333333334, 4.866666666666666, 8.183333333333334, 4.166666666666667, 4.683333333333334, 4.933333333333334, 5.016666666666667, 3.5, 5.1, 5.166666666666667, 5.0, 4.416666666666667, 6.35, 5.683333333333334, 6.183333333333334, 6.616666666666666, 4.1, 8.1, 5.766666666666667, 5.683333333333334, 5.25, 4.5, 4.1, 5.8, 4.816666666666666, 5.233333333333333, 4.666666666666667, 6.1, 5.816666666666666, 6.433333333333334, 4.433333333333334, 4.766666666666667, 4.416666666666667, 4.6, 4.433333333333334, 18.8, 5.016666666666667, 5.333333333333333, 5.083333333333333, 5.683333333333334, 5.333333333333333, 5.1, 3.933333333333333, 5.016666666666667, 5.183333333333334, 6.85, 5.266666666666667, 4.833333333333333, 4.666666666666667, 4.766666666666667, 5.266666666666667, 4.416666666666667, 4.916666666666667, 6.35, 5.6, 4.916666666666667, 4.833333333333333, 6.283333333333333, 4.933333333333334, 5.183333333333334, 3.2666666666666666, 7.016666666666667, 4.083333333333333, 5.85, 4.333333333333333, 5.35, 4.933333333333334, 6.933333333333334, 5.183333333333334, 5.183333333333334, 3.7666666666666666, 5.1, 4.6, 5.083333333333333, 4.333333333333333, 7.35, 6.1, 4.683333333333334, 4.333333333333333, 4.333333333333333, 6.85, 5.25, 7.433333333333334, 35.916666666666664, 7.1, 5.516666666666667, 6.0, 4.516666666666667, 6.766666666666667, 4.666666666666667, 5.85, 4.083333333333333, 4.766666666666667, 4.766666666666667, 6.683333333333334, 5.833333333333333, 5.1, 5.016666666666667, 5.183333333333334, 6.1, 4.666666666666667, 6.75, 40.666666666666664, 4.85, 4.683333333333334, 5.683333333333334, 3.683333333333333, 3.6666666666666665, 4.516666666666667, 4.5, 4.433333333333334, 5.1, 4.983333333333333, 5.933333333333334, 4.916666666666667, 5.833333333333333, 5.183333333333334, 5.266666666666667, 5.516666666666667, 5.15, 4.683333333333334, 6.733333333333333, 4.55, 6.133333333333334, 5.033333333333333, 4.216666666666667, 4.05, 4.683333333333334, 4.8, 4.716666666666667, 6.983333333333333, 4.95, 3.933333333333333, 4.9, 6.0, 3.7666666666666666, 7.166666666666667, 4.366666666666666, 5.633333333333334, 4.883333333333334, 6.733333333333333, 4.466666666666667, 5.65, 5.8, 4.866666666666666, 5.466666666666667, 5.466666666666667, 6.316666666666666, 3.533333333333333, 4.116666666666666, 5.466666666666667, 5.033333333333333, 5.083333333333333, 5.65, 5.466666666666667, 3.8666666666666667, 4.466666666666667, 5.3, 3.95, 4.616666666666666, 3.716666666666667, 3.783333333333333, 3.7, 4.066666666666666, 4.816666666666666, 5.933333333333334, 4.35, 5.133333333333334, 5.366666666666666, 5.283333333333333, 3.9833333333333334, 3.8, 4.783333333333333, 3.6166666666666667, 4.95, 6.133333333333334, 4.283333333333333, 6.483333333333333, 6.466666666666667, 5.65, 5.55, 4.283333333333333, 4.616666666666666, 5.366666666666666, 7.233333333333333, 4.883333333333334, 6.733333333333333, 4.116666666666666, 6.833333333333333, 5.816666666666666, 4.783333333333333, 4.366666666666666, 4.95, 4.55, 5.3, 5.3, 6.25, 8.0, 6.05, 3.8666666666666667, 5.383333333333334, 4.883333333333334, 5.683333333333334, 6.416666666666667, 7.1, 4.333333333333333, 6.1, 3.85, 5.266666666666667, 5.916666666666667, 6.083333333333333, 5.6, 6.016666666666667, 4.666666666666667, 3.7666666666666666, 5.75, 5.016666666666667, 4.183333333333334, 4.1, 5.933333333333334, 4.933333333333334, 6.166666666666667, 5.516666666666667]\n",
      "5 4\n",
      "[13.766666666666667, 4.933333333333334, 6.733333333333333, 5.083333333333333, 5.766666666666667, 4.433333333333334, 7.433333333333334, 5.1, 3.0, 3.9166666666666665, 5.016666666666667, 4.25, 4.266666666666667, 4.6, 5.6, 3.75, 3.683333333333333, 5.1, 4.183333333333334, 4.85, 4.983333333333333, 6.1, 5.15, 3.7666666666666666, 6.933333333333334, 6.433333333333334, 5.183333333333334, 5.183333333333334, 3.85, 3.5, 3.85, 3.25, 3.683333333333333, 5.516666666666667, 3.0, 5.333333333333333, 4.916666666666667, 5.516666666666667, 4.016666666666667, 5.933333333333334, 4.933333333333334, 4.6, 4.416666666666667, 5.766666666666667, 3.7666666666666666, 4.6, 4.016666666666667, 2.683333333333333, 3.6, 7.516666666666667, 5.1, 3.6666666666666665, 3.75, 5.183333333333334, 4.216666666666667, 3.9, 7.483333333333333, 5.8, 11.35, 32.56666666666667, 59.86666666666667, 6.516666666666667, 5.166666666666667, 4.933333333333334, 5.416666666666667, 3.6666666666666665, 5.6, 8.1, 41.1, 4.35, 3.5833333333333335, 5.033333333333333, 4.583333333333333, 4.0, 4.183333333333334, 5.266666666666667, 9.266666666666667, 46.733333333333334, 3.25, 3.8333333333333335, 4.433333333333334, 4.583333333333333, 6.35, 5.1, 2.8333333333333335, 7.85, 6.083333333333333, 4.433333333333334, 5.5, 5.166666666666667, 4.683333333333334, 8.683333333333334, 5.6, 6.183333333333334, 5.35, 4.333333333333333, 3.7666666666666666, 4.183333333333334, 5.0, 6.016666666666667, 5.433333333333334, 4.35, 5.933333333333334, 4.183333333333334, 6.016666666666667, 5.016666666666667, 5.1, 6.1, 5.266666666666667, 5.016666666666667, 4.766666666666667, 4.266666666666667, 3.9, 5.183333333333334, 5.066666666666666, 5.15, 4.183333333333334, 6.433333333333334, 4.75, 4.833333333333333, 6.6, 4.5, 5.016666666666667, 3.6, 5.1, 6.366666666666666, 4.433333333333334, 3.933333333333333, 3.3333333333333335, 3.3333333333333335, 4.183333333333334, 4.6, 3.0166666666666666, 4.85, 5.516666666666667, 4.683333333333334, 6.35, 5.25, 6.85, 5.1, 7.35, 5.933333333333334, 3.1, 5.583333333333333, 5.1, 5.266666666666667, 5.433333333333334, 5.35, 3.6, 7.016666666666667, 6.35, 5.5, 5.35, 6.6, 6.016666666666667, 5.683333333333334, 5.333333333333333, 6.35, 7.183333333333334, 35.25, 4.75, 4.85, 5.016666666666667, 4.1, 5.766666666666667, 5.5, 5.433333333333334, 4.433333333333334, 5.1, 4.5, 4.933333333333334, 4.516666666666667, 3.683333333333333, 5.0, 4.183333333333334, 3.75, 5.016666666666667, 4.1, 4.983333333333333, 4.3, 5.233333333333333, 4.833333333333333, 36.63333333333333, 4.433333333333334, 4.966666666666667, 5.016666666666667, 4.75, 0.0, 6.6, 8.166666666666666, 5.216666666666667, 4.966666666666667, 7.15, 4.5, 6.8, 6.616666666666666, 4.366666666666666, 11.1, 3.433333333333333, 5.066666666666666, 3.2666666666666666, 6.466666666666667, 7.533333333333333, 5.466666666666667, 5.533333333333333, 4.566666666666666, 3.7333333333333334, 4.2, 5.666666666666667, 5.4, 6.216666666666667, 4.133333333333334, 4.2, 6.683333333333334, 4.316666666666666, 4.3, 6.75, 5.033333333333333, 4.7, 5.45, 29.266666666666666, 6.383333333333334, 5.716666666666667, 4.65, 5.716666666666667, 4.683333333333334, 5.966666666666667, 4.883333333333334, 3.183333333333333, 4.783333333333333, 3.966666666666667, 3.816666666666667, 4.433333333333334, 4.0, 3.4833333333333334, 5.666666666666667, 4.116666666666666, 3.2, 4.716666666666667, 5.133333333333334, 3.966666666666667, 3.683333333333333, 3.1666666666666665, 4.366666666666666, 4.466666666666667, 4.05, 6.1, 4.25, 4.116666666666666, 3.433333333333333, 3.8833333333333333, 2.9166666666666665, 3.6166666666666667, 4.516666666666667, 3.8, 4.316666666666666, 4.65, 4.7, 4.95, 5.816666666666666, 4.033333333333333, 6.983333333333333, 4.966666666666667, 4.8, 7.4, 7.75, 7.75, 40.53333333333333, 4.716666666666667, 8.516666666666667, 5.883333333333334, 5.033333333333333, 7.416666666666667, 6.233333333333333, 5.583333333333333, 5.466666666666667, 3.966666666666667, 3.7, 4.1, 5.316666666666666, 5.1, 7.583333333333333, 4.566666666666666, 6.616666666666666, 39.35, 4.483333333333333, 5.066666666666666, 4.716666666666667, 6.733333333333333, 5.966666666666667, 6.233333333333333, 6.316666666666666, 5.966666666666667, 4.983333333333333, 6.7, 4.933333333333334, 5.333333333333333, 3.716666666666667, 3.6166666666666667, 5.283333333333333, 4.033333333333333, 4.3, 5.933333333333334, 5.1, 5.416666666666667, 6.783333333333333, 4.766666666666667, 6.1, 5.85, 5.6, 4.583333333333333, 4.683333333333334, 5.683333333333334, 4.6, 4.333333333333333, 4.933333333333334, 3.933333333333333, 7.1, 6.683333333333334, 4.433333333333334, 6.683333333333334, 4.516666666666667, 5.85, 6.35, 4.1, 4.1, 5.35, 3.433333333333333, 5.916666666666667, 4.75, 6.85, 4.016666666666667, 4.583333333333333, 4.083333333333333, 4.0, 2.8333333333333335, 4.35, 3.5833333333333335, 5.683333333333334, 6.35, 4.35, 3.683333333333333, 5.1, 4.75]\n",
      "5 5\n"
     ]
    },
    {
     "name": "stdout",
     "output_type": "stream",
     "text": [
      "[6.083333333333333, 6.083333333333333, 5.0, 5.516666666666667, 10.183333333333334, 2.6666666666666665, 4.35, 2.0, 3.5166666666666666, 9.083333333333334, 3.6, 4.183333333333334, 6.766666666666667, 2.5833333333333335, 7.266666666666667, 5.266666666666667, 4.1, 4.866666666666666, 5.183333333333334, 7.766666666666667, 8.45, 4.583333333333333, 4.5, 3.8333333333333335, 3.0166666666666666, 3.5833333333333335, 6.183333333333334, 6.183333333333334, 9.433333333333334, 5.983333333333333, 6.483333333333333, 3.3333333333333335, 6.016666666666667, 3.9166666666666665, 2.9166666666666665, 2.9166666666666665, 3.2666666666666666, 6.333333333333333, 4.783333333333333, 8.183333333333334, 6.6, 7.35, 4.0, 14.35, 43.016666666666666, 4.683333333333334, 7.1, 4.916666666666667, 7.016666666666667, 10.85, 4.583333333333333, 5.266666666666667, 5.0, 4.833333333333333, 5.6, 5.333333333333333, 3.683333333333333, 11.366666666666667, 3.716666666666667, 5.766666666666667, 7.183333333333334, 3.6666666666666665, 7.6, 5.666666666666667, 7.35, 7.35, 5.016666666666667, 10.2, 9.283333333333333, 4.183333333333334, 6.433333333333334, 5.35, 11.2, 4.25, 5.766666666666667, 3.5833333333333335, 5.6, 5.85, 4.433333333333334, 4.1, 4.083333333333333, 5.516666666666667, 0.0, 22.3, 8.616666666666667, 7.433333333333334, 7.25, 4.5, 6.016666666666667, 9.016666666666667, 11.616666666666667, 11.183333333333334, 4.583333333333333, 5.416666666666667, 5.516666666666667, 5.583333333333333, 7.333333333333333, 5.916666666666667, 3.7, 3.8666666666666667, 5.383333333333334, 8.55, 5.783333333333333, 5.183333333333334, 6.266666666666667, 6.8, 6.566666666666666, 7.483333333333333, 3.716666666666667, 4.216666666666667, 4.95, 8.033333333333333, 4.4, 4.483333333333333, 7.316666666666666, 5.016666666666667, 5.816666666666666, 6.4, 3.7, 5.133333333333334, 4.95, 5.216666666666667, 5.216666666666667, 5.466666666666667, 5.883333333333334, 4.3, 8.816666666666666, 6.3, 5.533333333333333, 4.066666666666666, 3.95, 5.633333333333334, 4.016666666666667, 5.466666666666667, 3.1333333333333333, 6.283333333333333, 3.6666666666666665, 5.216666666666667, 11.433333333333334, 5.816666666666666, 6.233333333333333, 6.266666666666667, 6.483333333333333, 4.966666666666667, 8.233333333333333, 6.733333333333333, 6.05, 6.166666666666667, 5.05, 3.783333333333333, 3.966666666666667, 5.966666666666667, 5.8, 5.9, 5.016666666666667, 5.8, 3.95, 4.033333333333333, 6.05, 6.016666666666667, 8.016666666666667, 4.75, 4.766666666666667, 8.616666666666667, 4.683333333333334, 6.5, 5.933333333333334, 4.516666666666667, 6.183333333333334, 5.766666666666667, 7.933333333333334, 6.183333333333334, 6.616666666666666, 7.6, 6.933333333333334, 5.916666666666667, 3.5833333333333335, 6.183333333333334, 6.6, 7.95, 6.183333333333334, 5.583333333333333, 7.35, 5.433333333333334, 7.6, 9.6, 4.85, 4.1, 7.016666666666667, 4.433333333333334, 5.016666666666667, 3.9166666666666665, 2.9166666666666665, 36.56666666666667, 9.033333333333333]\n",
      "5 6\n",
      "[4.433333333333334, 4.416666666666667, 11.1, 3.1, 14.2, 3.5, 4.0, 3.5833333333333335, 3.5, 3.5166666666666666, 3.4166666666666665, 2.5166666666666666, 5.933333333333334, 10.183333333333334, 5.583333333333333, 3.5, 3.8333333333333335, 2.9166666666666665, 2.3333333333333335, 3.2666666666666666, 4.516666666666667, 5.6, 6.683333333333334, 3.933333333333333, 3.5833333333333335, 5.983333333333333, 3.75, 3.5166666666666666, 4.85, 3.35, 3.9166666666666665, 5.466666666666667, 6.35, 4.85, 4.516666666666667, 3.933333333333333, 3.183333333333333, 3.2666666666666666, 4.183333333333334, 6.083333333333333, 5.766666666666667, 4.433333333333334, 2.75, 3.6, 3.4166666666666665, 4.683333333333334, 19.55, 3.8333333333333335, 3.7666666666666666, 3.35, 5.933333333333334, 3.933333333333333, 3.433333333333333, 3.8333333333333335, 3.5, 3.183333333333333, 5.1, 3.5166666666666666, 3.933333333333333, 4.0, 3.9166666666666665, 2.95, 3.4166666666666665, 2.683333333333333, 3.25, 3.1, 5.35, 4.6, 4.25, 3.3333333333333335, 4.75, 3.9166666666666665, 3.933333333333333, 4.516666666666667, 4.183333333333334, 3.6, 4.933333333333334, 5.35, 3.966666666666667, 3.3333333333333335, 5.35, 5.1, 4.016666666666667, 4.766666666666667, 3.7666666666666666, 3.0833333333333335, 5.1, 3.433333333333333, 3.1, 3.6, 3.25, 3.1, 4.266666666666667, 5.166666666666667, 3.35, 2.933333333333333, 3.5, 3.683333333333333, 4.916666666666667, 4.766666666666667, 3.0833333333333335, 3.9166666666666665, 3.75, 3.433333333333333, 3.7666666666666666, 4.6, 13.883333333333333, 3.6, 4.516666666666667, 4.5, 5.0, 4.433333333333334, 4.766666666666667, 4.116666666666666, 5.1, 3.35, 2.95, 3.2666666666666666, 3.6, 4.066666666666666, 4.05, 4.6, 4.966666666666667, 4.483333333333333, 3.533333333333333, 5.383333333333334, 4.416666666666667, 6.133333333333334, 4.466666666666667, 4.716666666666667, 4.283333333333333, 3.283333333333333, 3.05, 4.266666666666667, 4.266666666666667, 7.516666666666667, 5.1, 5.35, 5.1, 3.25, 2.6666666666666665, 3.4166666666666665, 3.933333333333333, 4.333333333333333, 4.166666666666667, 3.1666666666666665, 3.5166666666666666, 4.6, 2.8333333333333335, 3.933333333333333, 3.35, 3.35, 3.6666666666666665, 6.85, 3.8833333333333333, 2.85, 3.5833333333333335, 3.0166666666666666, 3.3333333333333335, 3.3333333333333335, 4.166666666666667, 4.683333333333334, 5.35, 5.666666666666667, 3.183333333333333, 4.683333333333334]\n",
      "6 0\n",
      "6 2\n",
      "6 3\n",
      "6 4\n",
      "6 5\n",
      "6 6\n",
      "7 0\n",
      "7 4\n",
      "7 5\n",
      "7 6\n"
     ]
    }
   ],
   "source": [
    "for name, group in df.groupby(['weekday', 'hour']):\n",
    "    wd, hour = name\n",
    "    print(wd, hour)\n",
    "    \n",
    "    times_id_stops = defaultdict(list_default_dict)\n",
    "    for name2, group2 in group.groupby(['route', 'bus_id']):\n",
    "        route = name2[0]\n",
    "        bus_id = name2[1]\n",
    "        for index, row in group2.iterrows():\n",
    "            stop_tag = row['stop_tag']\n",
    "            atime = row['time']\n",
    "            times_id_stops[route][bus_id].append((stop_tag, atime))\n",
    "        \n",
    "        \n",
    "    times_between_stops = defaultdict(new_list_default_dict)\n",
    "    for name3, group3 in group.groupby(['route', 'bus_id']):\n",
    "        route, bus_id = name3\n",
    "        add_times_to_megadict(times_between_stops, times_id_stops, route, bus_id)                \n",
    "\n",
    "    new_mega_dict = {}\n",
    "    for key, value in times_between_stops.items():\n",
    "        dict1 = {}\n",
    "        for key2, value2 in value.items():\n",
    "            dict2 = {}\n",
    "            for key3, value3 in value2.items():\n",
    "                dict2[key3] = value3\n",
    "            dict1[key2] = dict2\n",
    "        new_mega_dict[key] = dict1\n",
    "    with open('tt_{}_{}.pickle'.format(wd, hour), 'wb') as handle:\n",
    "        pickle.dump(new_mega_dict, handle)\n",
    "    \n",
    "    "
   ]
  },
  {
   "cell_type": "code",
   "execution_count": null,
   "metadata": {},
   "outputs": [],
   "source": [
    "datetime.datetime.now().isoweekday()"
   ]
  },
  {
   "cell_type": "code",
   "execution_count": null,
   "metadata": {
    "collapsed": true
   },
   "outputs": [],
   "source": []
  }
 ],
 "metadata": {
  "kernelspec": {
   "display_name": "Python 3",
   "language": "python",
   "name": "python3"
  },
  "language_info": {
   "codemirror_mode": {
    "name": "ipython",
    "version": 3
   },
   "file_extension": ".py",
   "mimetype": "text/x-python",
   "name": "python",
   "nbconvert_exporter": "python",
   "pygments_lexer": "ipython3",
   "version": "3.6.3"
  }
 },
 "nbformat": 4,
 "nbformat_minor": 2
}
